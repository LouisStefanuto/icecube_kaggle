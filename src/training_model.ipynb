{
 "cells": [
  {
   "cell_type": "markdown",
   "id": "50e9b995",
   "metadata": {
    "id": "9c9fa91f",
    "papermill": {
     "duration": 0.008274,
     "end_time": "2023-03-06T14:45:01.117014",
     "exception": false,
     "start_time": "2023-03-06T14:45:01.108740",
     "status": "completed"
    },
    "tags": []
   },
   "source": [
    "# Colab specific"
   ]
  },
  {
   "cell_type": "code",
   "execution_count": 1,
   "id": "d0d6cddf",
   "metadata": {
    "execution": {
     "iopub.execute_input": "2023-03-06T14:45:01.131614Z",
     "iopub.status.busy": "2023-03-06T14:45:01.130732Z",
     "iopub.status.idle": "2023-03-06T14:45:01.138978Z",
     "shell.execute_reply": "2023-03-06T14:45:01.138136Z"
    },
    "id": "a3fe3390",
    "outputId": "9f0dcd19-b5a9-4136-c6de-a0b469c572f8",
    "papermill": {
     "duration": 0.017788,
     "end_time": "2023-03-06T14:45:01.140979",
     "exception": false,
     "start_time": "2023-03-06T14:45:01.123191",
     "status": "completed"
    },
    "tags": []
   },
   "outputs": [],
   "source": [
    "# from tqdm import tqdm\n",
    "\n",
    "# nb_batches = 50\n",
    "\n",
    "# # Install kaggle API - Upload your json token file by hand\n",
    "# ! pip install -q kaggle\n",
    "\n",
    "# # Upload kaggle.json by hand first !\n",
    "# # Move the authentification file to the correct forlder\n",
    "# ! mkdir ~/.kaggle\n",
    "# ! cp kaggle.json ~/.kaggle/\n",
    "# ! chmod 600 ~/.kaggle/kaggle.json\n",
    "\n",
    "# # You are now good to use the Kaggle API to download files\n",
    "# # ==============================================================================\n",
    "# # Prepare folders\n",
    "# ! mkdir -p ../kaggle/input/icecube-neutrinos-in-deep-ice/train/\n",
    "# ! mkdir -p ../kaggle/input/icecube-neutrinos-in-deep-ice/test/\n",
    "\n",
    "# # Get personal py files\n",
    "# ! kaggle datasets download -d louisstefanuto/icecube-py\n",
    "# ! unzip /content/icecube-py.zip\n",
    "# ! rm /content/icecube-py.zip\n",
    "\n",
    "# # Get sensor files\n",
    "# ! kaggle competitions download icecube-neutrinos-in-deep-ice -f sensor_geometry.csv\n",
    "# ! mv /content/sensor_geometry.csv ../kaggle/input/icecube-neutrinos-in-deep-ice/sensor_geometry.csv\n",
    "\n",
    "# # Get preprocessed batches\n",
    "# ! kaggle datasets download -d louisstefanuto/dataset-smallermeta\n",
    "# ! unzip -nq /content/dataset-smallermeta.zip -d ../kaggle/input/smallermeta/\n",
    "# ! rm /content/dataset-smallermeta.zip\n",
    "\n",
    "# # Get test files\n",
    "# ! kaggle competitions download icecube-neutrinos-in-deep-ice -f /test_meta.parquet\n",
    "# ! mv /content/test_meta.parquet ../kaggle/input/icecube-neutrinos-in-deep-ice/test_meta.parquet\n",
    "# ! kaggle competitions download icecube-neutrinos-in-deep-ice -f /test/batch_661.parquet\n",
    "# ! mv /content/batch_661.parquet ../kaggle/input/icecube-neutrinos-in-deep-ice/test/batch_661.parquet\n",
    "    \n",
    "# # Get train batches\n",
    "# for i in tqdm(range(nb_batches)):\n",
    "#     PATH = f'/train/batch_{i+1}.parquet'\n",
    "#     ! kaggle competitions download icecube-neutrinos-in-deep-ice -f $PATH\n",
    "\n",
    "#     # Unzip files in their respective folder : -o to force overwrite / -n inverse\n",
    "#     PATH = f'/content/batch_{i+1}.parquet.zip'\n",
    "#     ! unzip -nq $PATH -d ../kaggle/input/icecube-neutrinos-in-deep-ice/train/\n",
    "#     ! rm $PATH\n",
    "\n",
    "\n",
    "# # Install PyTorch Geometric dependancies \n",
    "# import os\n",
    "# import torch\n",
    "# os.environ['TORCH'] = torch.__version__\n",
    "# device = torch.device('cuda' if torch.cuda.is_available() else 'cpu')\n",
    "# print(torch.__version__)\n",
    "\n",
    "# ! pip install -q torch-scatter -f https://data.pyg.org/whl/torch-${TORCH}.html\n",
    "# ! pip install -q torch-sparse -f https://data.pyg.org/whl/torch-${TORCH}.html\n",
    "# ! pip install -q torch-cluster -f https://data.pyg.org/whl/torch-${TORCH}.html\n",
    "# ! pip install -q git+https://github.com/pyg-team/pytorch_geometric.git"
   ]
  },
  {
   "cell_type": "markdown",
   "id": "f0fc5387",
   "metadata": {
    "id": "08b1b69e",
    "papermill": {
     "duration": 0.005761,
     "end_time": "2023-03-06T14:45:01.152639",
     "exception": false,
     "start_time": "2023-03-06T14:45:01.146878",
     "status": "completed"
    },
    "tags": []
   },
   "source": [
    "# Kaggle specific"
   ]
  },
  {
   "cell_type": "code",
   "execution_count": 2,
   "id": "5614dc2d",
   "metadata": {
    "execution": {
     "iopub.execute_input": "2023-03-06T14:45:01.166223Z",
     "iopub.status.busy": "2023-03-06T14:45:01.165384Z",
     "iopub.status.idle": "2023-03-06T14:45:03.063169Z",
     "shell.execute_reply": "2023-03-06T14:45:03.062165Z"
    },
    "id": "299d5fcc",
    "outputId": "1973ffce-fc1d-481d-ccc9-030c5bfbd093",
    "papermill": {
     "duration": 1.90868,
     "end_time": "2023-03-06T14:45:03.067280",
     "exception": false,
     "start_time": "2023-03-06T14:45:01.158600",
     "status": "completed"
    },
    "tags": []
   },
   "outputs": [
    {
     "name": "stdout",
     "output_type": "stream",
     "text": [
      "cuda\n"
     ]
    }
   ],
   "source": [
    "import torch \n",
    "device = torch.device('cuda' if torch.cuda.is_available() else 'cpu')\n",
    "print(device)"
   ]
  },
  {
   "cell_type": "code",
   "execution_count": 3,
   "id": "ae430614",
   "metadata": {
    "execution": {
     "iopub.execute_input": "2023-03-06T14:45:03.101193Z",
     "iopub.status.busy": "2023-03-06T14:45:03.100474Z",
     "iopub.status.idle": "2023-03-06T14:45:14.953405Z",
     "shell.execute_reply": "2023-03-06T14:45:14.952226Z"
    },
    "id": "f9d141cc",
    "papermill": {
     "duration": 11.870721,
     "end_time": "2023-03-06T14:45:14.956051",
     "exception": false,
     "start_time": "2023-03-06T14:45:03.085330",
     "status": "completed"
    },
    "tags": []
   },
   "outputs": [
    {
     "name": "stdout",
     "output_type": "stream",
     "text": [
      "\u001b[33mWARNING: Running pip as the 'root' user can result in broken permissions and conflicting behaviour with the system package manager. It is recommended to use a virtual environment instead: https://pip.pypa.io/warnings/venv\u001b[0m\u001b[33m\r\n",
      "\u001b[0m"
     ]
    }
   ],
   "source": [
    "if device.type == 'cpu':\n",
    "    # CPU version\n",
    "    ! pip install -q torch-scatter torch-sparse torch-cluster torch-spline-conv torch-geometric --no-index --find-links=file:///kaggle/input/pytorch-geometric/PyTorch-Geometric\n",
    "elif device.type == 'cuda':\n",
    "    # GPU version\n",
    "    ! pip install -q torch-scatter torch-sparse torch-cluster torch-spline-conv torch-geometric --no-index --find-links=file:///kaggle/input/pytorchgeometric\n",
    "else:\n",
    "    raise Exception('Bruh.')"
   ]
  },
  {
   "cell_type": "code",
   "execution_count": 4,
   "id": "bd8d7b8c",
   "metadata": {
    "execution": {
     "iopub.execute_input": "2023-03-06T14:45:14.972479Z",
     "iopub.status.busy": "2023-03-06T14:45:14.971499Z",
     "iopub.status.idle": "2023-03-06T14:45:18.767148Z",
     "shell.execute_reply": "2023-03-06T14:45:18.766147Z"
    },
    "id": "0c335732",
    "papermill": {
     "duration": 3.806944,
     "end_time": "2023-03-06T14:45:18.769654",
     "exception": false,
     "start_time": "2023-03-06T14:45:14.962710",
     "status": "completed"
    },
    "tags": []
   },
   "outputs": [],
   "source": [
    "import os\n",
    "import numpy as np\n",
    "import pandas as pd\n",
    "import matplotlib.pyplot as plt\n",
    "from tqdm import tqdm\n",
    "import gc\n",
    "\n",
    "from torch_geometric.loader import DataLoader\n",
    "\n",
    "# Add python files\n",
    "import sys\n",
    "sys.path.append('/kaggle/input/icecube-py')\n",
    "\n",
    "from dataset import MyOwnDataset\n",
    "from metrics import angular_dist_score\n",
    "import pred_to_angles"
   ]
  },
  {
   "cell_type": "markdown",
   "id": "f0ad1285",
   "metadata": {
    "id": "37b9b895",
    "papermill": {
     "duration": 0.006324,
     "end_time": "2023-03-06T14:45:18.782369",
     "exception": false,
     "start_time": "2023-03-06T14:45:18.776045",
     "status": "completed"
    },
    "tags": []
   },
   "source": [
    "# Pytorch geometric data loading"
   ]
  },
  {
   "cell_type": "code",
   "execution_count": 5,
   "id": "c306ed97",
   "metadata": {
    "execution": {
     "iopub.execute_input": "2023-03-06T14:45:18.795988Z",
     "iopub.status.busy": "2023-03-06T14:45:18.795437Z",
     "iopub.status.idle": "2023-03-06T14:45:19.744828Z",
     "shell.execute_reply": "2023-03-06T14:45:19.743450Z"
    },
    "id": "b33812b2",
    "outputId": "685fdc75-04a4-4355-9c5a-b2c54dde3ba0",
    "papermill": {
     "duration": 0.96464,
     "end_time": "2023-03-06T14:45:19.753026",
     "exception": false,
     "start_time": "2023-03-06T14:45:18.788386",
     "status": "completed"
    },
    "tags": []
   },
   "outputs": [
    {
     "name": "stdout",
     "output_type": "stream",
     "text": [
      "Preparing batch 660 ...\n",
      "Loading meta ...\n",
      "Loading sensor ...\n",
      "Loading batch ...\n",
      "Complete.\n",
      "\n",
      "CPU times: user 620 ms, sys: 250 ms, total: 870 ms\n",
      "Wall time: 943 ms\n"
     ]
    }
   ],
   "source": [
    "%%time\n",
    "\n",
    "dataset_args = {\n",
    "    'idx_batch': 660, \n",
    "    'path_batch': '/kaggle/input/smallermeta/batch_660_small.parquet', \n",
    "    'path_meta': '/kaggle/input/smallermeta/val_meta_660_small.parquet', \n",
    "    'path_sensor': '/kaggle/input/icecube-neutrinos-in-deep-ice/sensor_geometry.csv', \n",
    "    'target_mode': 'xyz', \n",
    "    'K': 8, \n",
    "    'features': ['x', 'y', 'z', 'time', 'charge'], \n",
    "    'threshold_events': 500\n",
    "}\n",
    "\n",
    "# Instantiate data set objects\n",
    "val_dataset = MyOwnDataset(**dataset_args)"
   ]
  },
  {
   "cell_type": "code",
   "execution_count": 6,
   "id": "3b64dc48",
   "metadata": {
    "execution": {
     "iopub.execute_input": "2023-03-06T14:45:19.767190Z",
     "iopub.status.busy": "2023-03-06T14:45:19.766896Z",
     "iopub.status.idle": "2023-03-06T14:45:19.836880Z",
     "shell.execute_reply": "2023-03-06T14:45:19.834114Z"
    },
    "id": "898dcc8c",
    "outputId": "6a5e5331-000c-46d0-f269-14299a6d5aec",
    "papermill": {
     "duration": 0.079721,
     "end_time": "2023-03-06T14:45:19.839315",
     "exception": false,
     "start_time": "2023-03-06T14:45:19.759594",
     "status": "completed"
    },
    "tags": []
   },
   "outputs": [
    {
     "name": "stdout",
     "output_type": "stream",
     "text": [
      "CPU times: user 49.2 ms, sys: 2.82 ms, total: 52.1 ms\n",
      "Wall time: 58.9 ms\n"
     ]
    },
    {
     "data": {
      "text/plain": [
       "(Data(x=[49, 5], y=[3], pos=[49, 3], n_pulses=49, edge_index=[2, 392]),\n",
       " 2144984130)"
      ]
     },
     "execution_count": 6,
     "metadata": {},
     "output_type": "execute_result"
    }
   ],
   "source": [
    "%%time\n",
    "# Sanity check - Should return a graph = one event embedded.\n",
    "# You should see that getting an event is much faster than building a data set.\n",
    "# That is bc creating a data set requiers to create a DataFrame, while here we read only.\n",
    "event, event_id = val_dataset.get(0) # id of the event within the batch selected to create the dataset object\n",
    "event, event_id"
   ]
  },
  {
   "cell_type": "code",
   "execution_count": 7,
   "id": "19876819",
   "metadata": {
    "execution": {
     "iopub.execute_input": "2023-03-06T14:45:19.855145Z",
     "iopub.status.busy": "2023-03-06T14:45:19.853486Z",
     "iopub.status.idle": "2023-03-06T14:45:19.861192Z",
     "shell.execute_reply": "2023-03-06T14:45:19.860345Z"
    },
    "id": "c326b7fd",
    "papermill": {
     "duration": 0.017287,
     "end_time": "2023-03-06T14:45:19.863398",
     "exception": false,
     "start_time": "2023-03-06T14:45:19.846111",
     "status": "completed"
    },
    "tags": []
   },
   "outputs": [],
   "source": [
    "def visualize_mesh(event):\n",
    "    df_event = pd.DataFrame(event.pos.numpy(), columns = ['x', 'y', 'z'])\n",
    "    edge_index = event.edge_index\n",
    "    pos = event.pos\n",
    "    \n",
    "    fig = plt.figure(figsize=(10, 10))\n",
    "    ax = fig.add_subplot(projection='3d')\n",
    "    \n",
    "    ax.scatter(df_event.x, df_event.y, df_event.z, s=100, c='r')\n",
    "    \n",
    "    for (src, dst) in edge_index.t().tolist():\n",
    "        src = pos[src].tolist()\n",
    "        dst = pos[dst].tolist()\n",
    "        ax.plot([src[0], dst[0]], [src[1], dst[1]], [src[2], dst[2]], linewidth=1, color='black')\n",
    "    \n",
    "    plt.show()"
   ]
  },
  {
   "cell_type": "code",
   "execution_count": 8,
   "id": "5b87c352",
   "metadata": {
    "execution": {
     "iopub.execute_input": "2023-03-06T14:45:19.877128Z",
     "iopub.status.busy": "2023-03-06T14:45:19.876868Z",
     "iopub.status.idle": "2023-03-06T14:45:20.833630Z",
     "shell.execute_reply": "2023-03-06T14:45:20.832692Z"
    },
    "id": "9d28a080",
    "outputId": "a7de8eb5-9d17-4e34-b913-6df136658d32",
    "papermill": {
     "duration": 0.967987,
     "end_time": "2023-03-06T14:45:20.837577",
     "exception": false,
     "start_time": "2023-03-06T14:45:19.869590",
     "status": "completed"
    },
    "tags": []
   },
   "outputs": [
    {
     "data": {
      "image/png": "[encoded data removed]",
      "text/plain": [
       "<Figure size 720x720 with 1 Axes>"
      ]
     },
     "metadata": {
      "needs_background": "light"
     },
     "output_type": "display_data"
    }
   ],
   "source": [
    "visualize_mesh(event)"
   ]
  },
  {
   "cell_type": "code",
   "execution_count": 9,
   "id": "46e2b6bc",
   "metadata": {
    "execution": {
     "iopub.execute_input": "2023-03-06T14:45:20.856810Z",
     "iopub.status.busy": "2023-03-06T14:45:20.856492Z",
     "iopub.status.idle": "2023-03-06T14:45:20.861331Z",
     "shell.execute_reply": "2023-03-06T14:45:20.860308Z"
    },
    "id": "2df8ebfd",
    "papermill": {
     "duration": 0.017916,
     "end_time": "2023-03-06T14:45:20.864096",
     "exception": false,
     "start_time": "2023-03-06T14:45:20.846180",
     "status": "completed"
    },
    "tags": []
   },
   "outputs": [],
   "source": [
    "BATCH_SIZE = 200 # In Graphnet baseline, = 200\n",
    "\n",
    "# A DataLoader merges data objects from a torch_geometric.data.Dataset to a mini-batch.\n",
    "val_loader = DataLoader(val_dataset, batch_size=BATCH_SIZE, shuffle=False)"
   ]
  },
  {
   "cell_type": "code",
   "execution_count": 10,
   "id": "bfaae3cc",
   "metadata": {
    "execution": {
     "iopub.execute_input": "2023-03-06T14:45:20.881690Z",
     "iopub.status.busy": "2023-03-06T14:45:20.881438Z",
     "iopub.status.idle": "2023-03-06T14:45:21.446663Z",
     "shell.execute_reply": "2023-03-06T14:45:21.445574Z"
    },
    "id": "8a0b852a",
    "outputId": "ff653f31-e5ee-412f-d0e2-115b056e8f9c",
    "papermill": {
     "duration": 0.577621,
     "end_time": "2023-03-06T14:45:21.449986",
     "exception": false,
     "start_time": "2023-03-06T14:45:20.872365",
     "status": "completed"
    },
    "tags": []
   },
   "outputs": [
    {
     "name": "stdout",
     "output_type": "stream",
     "text": [
      "DataBatch(x=[20476, 5], y=[600], pos=[20476, 3], n_pulses=[200], edge_index=[2, 165060], batch=[20476], ptr=[201])\n",
      "Batchsize/num of graphs in batch: 200\n",
      "Num features per node: 5\n",
      "Event_ids: tensor([2144984130, 2144984139, 2144984142, 2144984185, 2144984191, 2144984218,\n",
      "        2144984227, 2144984236, 2144984271, 2144984279, 2144984287, 2144984294,\n",
      "        2144984324, 2144984338, 2144984349, 2144984391, 2144984403, 2144984437,\n",
      "        2144984444, 2144984467, 2144984484, 2144984488, 2144984506, 2144984523,\n",
      "        2144984565, 2144984566, 2144984568, 2144984578, 2144984586, 2144984596,\n",
      "        2144984597, 2144984603, 2144984651, 2144984660, 2144984665, 2144984691,\n",
      "        2144984720, 2144984747, 2144984751, 2144984761, 2144984762, 2144984765,\n",
      "        2144984774, 2144984839, 2144984848, 2144984889, 2144984915, 2144984976,\n",
      "        2144984999, 2144985029, 2144985037, 2144985044, 2144985055, 2144985068,\n",
      "        2144985078, 2144985157, 2144985165, 2144985193, 2144985208, 2144985216,\n",
      "        2144985238, 2144985250, 2144985257, 2144985266, 2144985305, 2144985321,\n",
      "        2144985343, 2144985379, 2144985388, 2144985394, 2144985422, 2144985431,\n",
      "        2144985434, 2144985440, 2144985462, 2144985491, 2144985492, 2144985518,\n",
      "        2144985527, 2144985570, 2144985614, 2144985618, 2144985632, 2144985636,\n",
      "        2144985637, 2144985645, 2144985647, 2144985678, 2144985693, 2144985700,\n",
      "        2144985711, 2144985736, 2144985739, 2144985774, 2144985777, 2144985785,\n",
      "        2144985826, 2144985847, 2144985862, 2144985870, 2144985872, 2144985873,\n",
      "        2144985877, 2144985908, 2144985923, 2144985926, 2144985949, 2144985973,\n",
      "        2144985979, 2144986026, 2144986057, 2144986065, 2144986069, 2144986113,\n",
      "        2144986118, 2144986156, 2144986208, 2144986234, 2144986240, 2144986258,\n",
      "        2144986273, 2144986304, 2144986308, 2144986332, 2144986367, 2144986419,\n",
      "        2144986425, 2144986452, 2144986463, 2144986484, 2144986493, 2144986496,\n",
      "        2144986503, 2144986511, 2144986518, 2144986526, 2144986528, 2144986532,\n",
      "        2144986533, 2144986537, 2144986562, 2144986568, 2144986573, 2144986581,\n",
      "        2144986585, 2144986641, 2144986674, 2144986689, 2144986710, 2144986715,\n",
      "        2144986740, 2144986748, 2144986757, 2144986759, 2144986768, 2144986807,\n",
      "        2144986815, 2144986824, 2144986828, 2144986846, 2144986858, 2144986892,\n",
      "        2144986929, 2144986949, 2144986997, 2144987013, 2144987027, 2144987037,\n",
      "        2144987060, 2144987089, 2144987094, 2144987118, 2144987123, 2144987127,\n",
      "        2144987133, 2144987135, 2144987139, 2144987146, 2144987157, 2144987169,\n",
      "        2144987172, 2144987211, 2144987213, 2144987225, 2144987249, 2144987261,\n",
      "        2144987276, 2144987290, 2144987301, 2144987335, 2144987357, 2144987371,\n",
      "        2144987385, 2144987402, 2144987414, 2144987416, 2144987426, 2144987439,\n",
      "        2144987462, 2144987464])\n"
     ]
    }
   ],
   "source": [
    "# Let's ask the loader to return a batch!\n",
    "for batch in val_loader:\n",
    "    events, event_ids = batch\n",
    "    print(events)\n",
    "    break\n",
    "    \n",
    "print('Batchsize/num of graphs in batch:', events.num_graphs)\n",
    "print('Num features per node:', events.num_features)\n",
    "print('Event_ids:', event_ids)"
   ]
  },
  {
   "cell_type": "markdown",
   "id": "a1d356f0",
   "metadata": {
    "id": "e1e63439",
    "papermill": {
     "duration": 0.00819,
     "end_time": "2023-03-06T14:45:21.467356",
     "exception": false,
     "start_time": "2023-03-06T14:45:21.459166",
     "status": "completed"
    },
    "tags": []
   },
   "source": [
    "# Model"
   ]
  },
  {
   "cell_type": "code",
   "execution_count": 11,
   "id": "9ccfdb53",
   "metadata": {
    "execution": {
     "iopub.execute_input": "2023-03-06T14:45:21.485904Z",
     "iopub.status.busy": "2023-03-06T14:45:21.485613Z",
     "iopub.status.idle": "2023-03-06T14:45:21.504950Z",
     "shell.execute_reply": "2023-03-06T14:45:21.504113Z"
    },
    "id": "cf92da60",
    "papermill": {
     "duration": 0.031099,
     "end_time": "2023-03-06T14:45:21.506848",
     "exception": false,
     "start_time": "2023-03-06T14:45:21.475749",
     "status": "completed"
    },
    "tags": []
   },
   "outputs": [],
   "source": [
    "import torch\n",
    "from torch.nn import Linear, LeakyReLU\n",
    "from torch_geometric.nn import DynamicEdgeConv\n",
    "from torch_geometric.nn import global_mean_pool\n",
    "from torch import Tensor, LongTensor\n",
    "from torch_scatter import scatter_mean\n",
    "from torch_geometric.utils.homophily import homophily\n",
    "from torch_geometric.nn.aggr import MultiAggregation, AttentionalAggregation\n",
    "\n",
    "\n",
    "class EdgeConvMLP(torch.nn.Module):\n",
    "    \"\"\"Basic convolutional block.\"\"\"\n",
    "    def __init__(self, dim_in, dim_hidden, dim_out):\n",
    "        super().__init__()\n",
    "\n",
    "        self.sequential = torch.nn.Sequential(\n",
    "            Linear(dim_in, dim_hidden),\n",
    "            LeakyReLU(),\n",
    "            Linear(dim_hidden, dim_out),\n",
    "            LeakyReLU(),\n",
    "        )\n",
    "\n",
    "    def forward(self, x):\n",
    "        return self.sequential(x)\n",
    "    \n",
    "class GateMLP(torch.nn.Module):\n",
    "    \"\"\"Basic convolutional block.\"\"\"\n",
    "    def __init__(self, dim_in, dim_hidden, dim_out):\n",
    "        super().__init__()\n",
    "\n",
    "        self.sequential = torch.nn.Sequential(\n",
    "            Linear(dim_in, dim_hidden),\n",
    "            LeakyReLU(),\n",
    "            Linear(dim_hidden, dim_out),\n",
    "            LeakyReLU(),\n",
    "        )\n",
    "\n",
    "    def forward(self, x):\n",
    "        return self.sequential(x)\n",
    "\n",
    "\n",
    "class DynEdgeAttention(torch.nn.Module):\n",
    "    \"\"\"Dynedge model from https://iopscience.iop.org/article/10.1088/1748-0221/17/11/P11003)\"\"\"\n",
    "    def __init__(self, num_node_features, dim_output, dropout_rate=0.):\n",
    "        super(DynEdgeAttention, self).__init__()\n",
    "        \n",
    "        torch.manual_seed(12345)\n",
    "        self.num_node_features = num_node_features\n",
    "        self.dim_output = dim_output\n",
    "        self.dropout_rate = dropout_rate\n",
    "        self.K = 8\n",
    "#         self.aggrs_list = ['mean', 'min' , 'max', 'sum', AttentionalAggregation(gate_nn=GateMLP(256, 512, 256))]\n",
    "        self.aggrs_list = [AttentionalAggregation(gate_nn=GateMLP(256, 64, 1))]\n",
    "\n",
    "        self.conv1 = DynamicEdgeConv(nn=EdgeConvMLP(2 * self.num_node_features, 336, 256), k=self.K)\n",
    "        self.conv2 = DynamicEdgeConv(nn=EdgeConvMLP(512, 336, 256), k=self.K)\n",
    "        self.conv3 = DynamicEdgeConv(nn=EdgeConvMLP(512, 336, 256), k=self.K)\n",
    "        self.conv4 = DynamicEdgeConv(nn=EdgeConvMLP(512, 336, 256), k=self.K)\n",
    "        \n",
    "        # final regressor\n",
    "        self.mlp1 = torch.nn.Sequential(\n",
    "            Linear(256 * 4 + self.num_node_features, 336),\n",
    "            LeakyReLU(),\n",
    "            Linear(336, 256),\n",
    "            LeakyReLU(),\n",
    "        )\n",
    "        \n",
    "        self.global_pool =  MultiAggregation(aggrs=self.aggrs_list)\n",
    "        \n",
    "#         mode_kwargs = {'in_channels': 256, 'out_channels': 256, 'num_heads': 16}\n",
    "#         self.global_pool =  MultiAggregation(aggrs=self.aggrs_list, mode='attn', mode_kwargs=mode_kwargs)\n",
    "\n",
    "#         AttentionalAggregation\n",
    "#         self.attentional_aggr = AttentionalAggregation(gate_nn=GateMLP(256, 512, 256))\n",
    "\n",
    "        self.mlp2 =  torch.nn.Sequential(\n",
    "            Linear(len(self.aggrs_list) * 256 + (4 + self.num_node_features), 128), # input depends of number of aggregating fns + 4 homophily + mean_node\n",
    "#             Linear(256 + (4 + self.num_node_features), 128),\n",
    "            LeakyReLU(),\n",
    "            Linear(128, self.dim_output)\n",
    "        )\n",
    "\n",
    "\n",
    "    def _calculate_global_variables(\n",
    "        self,\n",
    "        x: Tensor,\n",
    "        edge_index: LongTensor,\n",
    "        batch: LongTensor,\n",
    "    ) -> Tensor:\n",
    "        \"\"\"Calculate global variables.\"\"\"\n",
    "        # Calculate homophily (scalar variables)\n",
    "        h_x = homophily(edge_index, x[:, 0], batch).reshape(-1, 1)\n",
    "        h_y = homophily(edge_index, x[:, 1], batch).reshape(-1, 1)\n",
    "        h_z = homophily(edge_index, x[:, 2], batch).reshape(-1, 1)\n",
    "        h_t = homophily(edge_index, x[:, 3], batch).reshape(-1, 1)\n",
    "        \n",
    "        # Calculate mean features\n",
    "        global_means = scatter_mean(x, batch, dim=0)\n",
    "\n",
    "        # Add global variables\n",
    "        global_variables = torch.cat([global_means, h_x, h_y, h_z, h_t], dim=-1)\n",
    "\n",
    "        return global_variables\n",
    "\n",
    "    def forward(self, x, edge_index, batch):\n",
    "        # 0. Obtain global variables\n",
    "        global_x = self._calculate_global_variables(x, edge_index, batch)\n",
    "        \n",
    "        # 1. Obtain node embeddings at various embedding depths\n",
    "        x1 = self.conv1(x, batch)\n",
    "        x2 = self.conv2(x1, batch)\n",
    "        x3 = self.conv3(x2, batch)\n",
    "        x4 = self.conv4(x3, batch)\n",
    "\n",
    "        x = torch.cat([x, x1, x2, x3, x4], dim=-1)\n",
    "        \n",
    "        x = self.mlp1(x)\n",
    "\n",
    "        # 2. Pooling        \n",
    "        x = self.global_pool(x, batch)\n",
    "            \n",
    "        x = torch.cat([global_x, x], dim=-1)\n",
    "\n",
    "        # 3. Apply a final MLP regressor\n",
    "        x = self.mlp2(x)\n",
    "        \n",
    "        return x"
   ]
  },
  {
   "cell_type": "code",
   "execution_count": 12,
   "id": "dc7092c5",
   "metadata": {
    "execution": {
     "iopub.execute_input": "2023-03-06T14:45:21.524870Z",
     "iopub.status.busy": "2023-03-06T14:45:21.524107Z",
     "iopub.status.idle": "2023-03-06T14:45:21.552056Z",
     "shell.execute_reply": "2023-03-06T14:45:21.550779Z"
    },
    "id": "aad4d0a9",
    "outputId": "1f576298-c10a-40ae-c4ac-a4b9ba2c87c2",
    "papermill": {
     "duration": 0.039185,
     "end_time": "2023-03-06T14:45:21.554252",
     "exception": false,
     "start_time": "2023-03-06T14:45:21.515067",
     "status": "completed"
    },
    "tags": []
   },
   "outputs": [
    {
     "name": "stdout",
     "output_type": "stream",
     "text": [
      "DynEdgeAttention(\n",
      "  (conv1): DynamicEdgeConv(nn=EdgeConvMLP(\n",
      "    (sequential): Sequential(\n",
      "      (0): Linear(in_features=10, out_features=336, bias=True)\n",
      "      (1): LeakyReLU(negative_slope=0.01)\n",
      "      (2): Linear(in_features=336, out_features=256, bias=True)\n",
      "      (3): LeakyReLU(negative_slope=0.01)\n",
      "    )\n",
      "  ), k=8)\n",
      "  (conv2): DynamicEdgeConv(nn=EdgeConvMLP(\n",
      "    (sequential): Sequential(\n",
      "      (0): Linear(in_features=512, out_features=336, bias=True)\n",
      "      (1): LeakyReLU(negative_slope=0.01)\n",
      "      (2): Linear(in_features=336, out_features=256, bias=True)\n",
      "      (3): LeakyReLU(negative_slope=0.01)\n",
      "    )\n",
      "  ), k=8)\n",
      "  (conv3): DynamicEdgeConv(nn=EdgeConvMLP(\n",
      "    (sequential): Sequential(\n",
      "      (0): Linear(in_features=512, out_features=336, bias=True)\n",
      "      (1): LeakyReLU(negative_slope=0.01)\n",
      "      (2): Linear(in_features=336, out_features=256, bias=True)\n",
      "      (3): LeakyReLU(negative_slope=0.01)\n",
      "    )\n",
      "  ), k=8)\n",
      "  (conv4): DynamicEdgeConv(nn=EdgeConvMLP(\n",
      "    (sequential): Sequential(\n",
      "      (0): Linear(in_features=512, out_features=336, bias=True)\n",
      "      (1): LeakyReLU(negative_slope=0.01)\n",
      "      (2): Linear(in_features=336, out_features=256, bias=True)\n",
      "      (3): LeakyReLU(negative_slope=0.01)\n",
      "    )\n",
      "  ), k=8)\n",
      "  (mlp1): Sequential(\n",
      "    (0): Linear(in_features=1029, out_features=336, bias=True)\n",
      "    (1): LeakyReLU(negative_slope=0.01)\n",
      "    (2): Linear(in_features=336, out_features=256, bias=True)\n",
      "    (3): LeakyReLU(negative_slope=0.01)\n",
      "  )\n",
      "  (global_pool): MultiAggregation([\n",
      "    AttentionalAggregation(gate_nn=GateMLP(\n",
      "    (sequential): Sequential(\n",
      "      (0): Linear(in_features=256, out_features=64, bias=True)\n",
      "      (1): LeakyReLU(negative_slope=0.01)\n",
      "      (2): Linear(in_features=64, out_features=1, bias=True)\n",
      "      (3): LeakyReLU(negative_slope=0.01)\n",
      "    )\n",
      "  ), nn=None),\n",
      "  ], mode=cat)\n",
      "  (mlp2): Sequential(\n",
      "    (0): Linear(in_features=265, out_features=128, bias=True)\n",
      "    (1): LeakyReLU(negative_slope=0.01)\n",
      "    (2): Linear(in_features=128, out_features=3, bias=True)\n",
      "  )\n",
      ")\n"
     ]
    }
   ],
   "source": [
    "# Instantiate the model\n",
    "model = DynEdgeAttention(\n",
    "    num_node_features=event.x.shape[1], \n",
    "    dim_output=event.y.shape[0], \n",
    "    dropout_rate=0.\n",
    ")\n",
    "\n",
    "print(model)"
   ]
  },
  {
   "cell_type": "code",
   "execution_count": 13,
   "id": "8932ce70",
   "metadata": {
    "execution": {
     "iopub.execute_input": "2023-03-06T14:45:21.572658Z",
     "iopub.status.busy": "2023-03-06T14:45:21.571802Z",
     "iopub.status.idle": "2023-03-06T14:45:34.202221Z",
     "shell.execute_reply": "2023-03-06T14:45:34.201222Z"
    },
    "id": "75183262",
    "outputId": "0ab62351-c3c2-4f53-ea18-71e18c4efbfd",
    "papermill": {
     "duration": 12.641969,
     "end_time": "2023-03-06T14:45:34.204465",
     "exception": false,
     "start_time": "2023-03-06T14:45:21.562496",
     "status": "completed"
    },
    "tags": []
   },
   "outputs": [
    {
     "data": {
      "text/plain": [
       "torch.Size([200, 3])"
      ]
     },
     "execution_count": 13,
     "metadata": {},
     "output_type": "execute_result"
    }
   ],
   "source": [
    "# Sanity check - Forward pass with a batch\n",
    "# You should get a prediction array of (BATCH_SIZE, dim_output) as output.\n",
    "model(events.x, events.edge_index, events.batch).shape"
   ]
  },
  {
   "cell_type": "code",
   "execution_count": 14,
   "id": "6c977cac",
   "metadata": {
    "execution": {
     "iopub.execute_input": "2023-03-06T14:45:34.224189Z",
     "iopub.status.busy": "2023-03-06T14:45:34.222746Z",
     "iopub.status.idle": "2023-03-06T14:45:46.898526Z",
     "shell.execute_reply": "2023-03-06T14:45:46.897475Z"
    },
    "id": "ad46234b",
    "outputId": "7d13e962-13d0-412b-d0d7-61558a40cb93",
    "papermill": {
     "duration": 12.687399,
     "end_time": "2023-03-06T14:45:46.900603",
     "exception": false,
     "start_time": "2023-03-06T14:45:34.213204",
     "status": "completed"
    },
    "tags": []
   },
   "outputs": [
    {
     "data": {
      "text/plain": [
       "1.4855133"
      ]
     },
     "execution_count": 14,
     "metadata": {},
     "output_type": "execute_result"
    }
   ],
   "source": [
    "# Try the metric on some data  \n",
    "out = model(events.x, events.edge_index, events.batch)\n",
    "# labels = events.y.reshape(len(events.n_pulses), -1)\n",
    "labels = events.y.reshape(-1, model.dim_output)\n",
    "   \n",
    "target_mode = val_dataset.target_mode\n",
    "if target_mode == 'angles':\n",
    "    az_true, zen_true, az_pred, zen_pred = pred_to_angles.from_angles(out, labels)\n",
    "if target_mode == 'cossin':        \n",
    "    az_true, zen_true, az_pred, zen_pred = pred_to_angles.from_cossin(out, labels)\n",
    "if target_mode == 'xyz':\n",
    "    az_true, zen_true, az_pred, zen_pred = pred_to_angles.from_xyz(out, labels)\n",
    "\n",
    "# Detach from GPU and send to CPU - convert to np to be accepted by host metric function\n",
    "az_pred = az_pred.detach().cpu().numpy()\n",
    "zen_pred = zen_pred.detach().cpu().numpy()\n",
    "az_true = az_true.detach().cpu().numpy()\n",
    "zen_true = zen_true.detach().cpu().numpy()\n",
    "            \n",
    "angular_dist_score(az_true, zen_true, az_pred, zen_pred)"
   ]
  },
  {
   "cell_type": "markdown",
   "id": "1e4f5446",
   "metadata": {
    "papermill": {
     "duration": 0.008791,
     "end_time": "2023-03-06T14:45:46.918936",
     "exception": false,
     "start_time": "2023-03-06T14:45:46.910145",
     "status": "completed"
    },
    "tags": []
   },
   "source": [
    "# Von Mises loss"
   ]
  },
  {
   "cell_type": "code",
   "execution_count": 15,
   "id": "f454d068",
   "metadata": {
    "execution": {
     "iopub.execute_input": "2023-03-06T14:45:46.937426Z",
     "iopub.status.busy": "2023-03-06T14:45:46.937091Z",
     "iopub.status.idle": "2023-03-06T14:45:46.943706Z",
     "shell.execute_reply": "2023-03-06T14:45:46.942782Z"
    },
    "papermill": {
     "duration": 0.018173,
     "end_time": "2023-03-06T14:45:46.945669",
     "exception": false,
     "start_time": "2023-03-06T14:45:46.927496",
     "status": "completed"
    },
    "tags": []
   },
   "outputs": [],
   "source": [
    "class VMFLoss(torch.nn.Module):\n",
    "    def __init__(self):\n",
    "        super(VMFLoss, self).__init__()\n",
    "\n",
    "    def forward(self, output, target):\n",
    "        return self._vMF_loss(output, target)\n",
    "\n",
    "    def _vMF_loss(self, n_pred, n_true, eps = 1e-8):\n",
    "        \"\"\"  von Mises-Fisher Loss: n_true is unit vector ! \"\"\"\n",
    "        kappa = torch.norm(n_pred, dim=1)        \n",
    "        logC = - kappa + torch.log((kappa + eps) / (1 - torch.exp(-2 * kappa) + 2 * eps))\n",
    "        return - ((n_true * n_pred).sum(dim=1) + logC).mean() "
   ]
  },
  {
   "cell_type": "markdown",
   "id": "4caf7c3d",
   "metadata": {
    "id": "6a2083d6",
    "papermill": {
     "duration": 0.008309,
     "end_time": "2023-03-06T14:45:46.962359",
     "exception": false,
     "start_time": "2023-03-06T14:45:46.954050",
     "status": "completed"
    },
    "tags": []
   },
   "source": [
    "# Training"
   ]
  },
  {
   "cell_type": "code",
   "execution_count": 16,
   "id": "2011429e",
   "metadata": {
    "execution": {
     "iopub.execute_input": "2023-03-06T14:45:46.981125Z",
     "iopub.status.busy": "2023-03-06T14:45:46.980521Z",
     "iopub.status.idle": "2023-03-06T14:45:46.994400Z",
     "shell.execute_reply": "2023-03-06T14:45:46.991255Z"
    },
    "id": "5c0ca03b",
    "papermill": {
     "duration": 0.027333,
     "end_time": "2023-03-06T14:45:46.998195",
     "exception": false,
     "start_time": "2023-03-06T14:45:46.970862",
     "status": "completed"
    },
    "tags": []
   },
   "outputs": [],
   "source": [
    "def run_one_epoch(model, loader, criterion, optimizer, device, epoch, train=True, verbose=0):\n",
    "    \"\"\"\n",
    "    Training loop over one epoch.\n",
    "    \"\"\"\n",
    "    if train:\n",
    "        model.train()\n",
    "    else:\n",
    "        model.eval()\n",
    "    \n",
    "    total_loss = 0\n",
    "    angle_error_sum = 0\n",
    "    \n",
    "    for id_batch, data in enumerate(tqdm(loader)): # Iterate over batches \n",
    "        \n",
    "        # Load data and labels to device and predict\n",
    "        events, event_ids = data\n",
    "        x, edge_index, batch = events.x.to(device), events.edge_index.to(device), events.batch.to(device)\n",
    "        labels = events.y.to(device).reshape(-1, model.dim_output) # reshape bc model returns (batchsize, dim_out), while loader (idiot!) returns (dim_out*batchsize)\n",
    "        \n",
    "        out = model(x, edge_index, batch) # Perform a single forward pass\n",
    "\n",
    "        # Compute the loss - \n",
    "        loss = criterion(out, labels)  \n",
    "        total_loss += loss.item() * events.num_graphs\n",
    "        \n",
    "        if train:\n",
    "            # Back propagation\n",
    "            loss.backward() # Derive gradients.\n",
    "            optimizer.step() # Update parameters based on gradients.\n",
    "            optimizer.zero_grad() # Clear gradients.\n",
    "        \n",
    "        # Metrics\n",
    "        if target_mode == 'angles':\n",
    "            az_true, zen_true, az_pred, zen_pred = pred_to_angles.from_angles(out, labels)\n",
    "        if target_mode == 'cossin':        \n",
    "            az_true, zen_true, az_pred, zen_pred = pred_to_angles.from_cossin(out, labels)\n",
    "        if target_mode == 'xyz':\n",
    "            az_true, zen_true, az_pred, zen_pred = pred_to_angles.from_xyz(out, labels)\n",
    "        \n",
    "        # Detach from GPU and send to CPU - convert to np to be accepted by host metric function\n",
    "        az_pred = az_pred.detach().cpu().numpy()\n",
    "        zen_pred = zen_pred.detach().cpu().numpy()\n",
    "        az_true = az_true.detach().cpu().numpy()\n",
    "        zen_true = zen_true.detach().cpu().numpy()\n",
    "        \n",
    "        angle_error = angular_dist_score(az_true, zen_true, az_pred, zen_pred)\n",
    "        angle_error_sum += angle_error\n",
    "        \n",
    "        if verbose and id_batch % 100 == 0:\n",
    "            if train:\n",
    "                print(f'Epoch {epoch} - Batch {id_batch}/{len(loader)} - Loss {loss.item()} - Angle {angle_error}') \n",
    "            else:\n",
    "                print(f'Epoch {epoch} - Batch {id_batch}/{len(loader)} - Val loss {loss.item()} - Val angle {angle_error}') \n",
    "\n",
    "    return total_loss / len(loader.dataset), angle_error_sum / len(loader)"
   ]
  },
  {
   "cell_type": "code",
   "execution_count": 17,
   "id": "3cca130c",
   "metadata": {
    "execution": {
     "iopub.execute_input": "2023-03-06T14:45:47.032324Z",
     "iopub.status.busy": "2023-03-06T14:45:47.032038Z",
     "iopub.status.idle": "2023-03-06T14:45:47.037227Z",
     "shell.execute_reply": "2023-03-06T14:45:47.036213Z"
    },
    "id": "25b48d82",
    "papermill": {
     "duration": 0.030238,
     "end_time": "2023-03-06T14:45:47.046460",
     "exception": false,
     "start_time": "2023-03-06T14:45:47.016222",
     "status": "completed"
    },
    "tags": []
   },
   "outputs": [],
   "source": [
    "NUM_EPOCHS = 20\n",
    "offset = 70\n",
    "LR0 = 1e-6\n",
    "\n",
    "# regularization tools\n",
    "WEIGHT_DECAY = 1e-3\n",
    "DROPOUT_RATE = 0.\n",
    "\n",
    "# callbacks\n",
    "PATIENCE_LR_PLATEAU = 4\n",
    "REDUCE_LR_FACTOR = 0.1\n",
    "VERBOSE = 1"
   ]
  },
  {
   "cell_type": "code",
   "execution_count": 18,
   "id": "3ec95fc5",
   "metadata": {
    "execution": {
     "iopub.execute_input": "2023-03-06T14:45:47.086632Z",
     "iopub.status.busy": "2023-03-06T14:45:47.086185Z",
     "iopub.status.idle": "2023-03-06T14:45:51.392492Z",
     "shell.execute_reply": "2023-03-06T14:45:51.390498Z"
    },
    "id": "71109a23",
    "outputId": "d32feb9d-51eb-4535-ad73-ce418979a45a",
    "papermill": {
     "duration": 4.331227,
     "end_time": "2023-03-06T14:45:51.394947",
     "exception": false,
     "start_time": "2023-03-06T14:45:47.063720",
     "status": "completed"
    },
    "tags": []
   },
   "outputs": [
    {
     "name": "stdout",
     "output_type": "stream",
     "text": [
      "03-06-dynedge+attention+xyz\n",
      "DynEdgeAttention(\n",
      "  (conv1): DynamicEdgeConv(nn=EdgeConvMLP(\n",
      "    (sequential): Sequential(\n",
      "      (0): Linear(in_features=10, out_features=336, bias=True)\n",
      "      (1): LeakyReLU(negative_slope=0.01)\n",
      "      (2): Linear(in_features=336, out_features=256, bias=True)\n",
      "      (3): LeakyReLU(negative_slope=0.01)\n",
      "    )\n",
      "  ), k=8)\n",
      "  (conv2): DynamicEdgeConv(nn=EdgeConvMLP(\n",
      "    (sequential): Sequential(\n",
      "      (0): Linear(in_features=512, out_features=336, bias=True)\n",
      "      (1): LeakyReLU(negative_slope=0.01)\n",
      "      (2): Linear(in_features=336, out_features=256, bias=True)\n",
      "      (3): LeakyReLU(negative_slope=0.01)\n",
      "    )\n",
      "  ), k=8)\n",
      "  (conv3): DynamicEdgeConv(nn=EdgeConvMLP(\n",
      "    (sequential): Sequential(\n",
      "      (0): Linear(in_features=512, out_features=336, bias=True)\n",
      "      (1): LeakyReLU(negative_slope=0.01)\n",
      "      (2): Linear(in_features=336, out_features=256, bias=True)\n",
      "      (3): LeakyReLU(negative_slope=0.01)\n",
      "    )\n",
      "  ), k=8)\n",
      "  (conv4): DynamicEdgeConv(nn=EdgeConvMLP(\n",
      "    (sequential): Sequential(\n",
      "      (0): Linear(in_features=512, out_features=336, bias=True)\n",
      "      (1): LeakyReLU(negative_slope=0.01)\n",
      "      (2): Linear(in_features=336, out_features=256, bias=True)\n",
      "      (3): LeakyReLU(negative_slope=0.01)\n",
      "    )\n",
      "  ), k=8)\n",
      "  (mlp1): Sequential(\n",
      "    (0): Linear(in_features=1029, out_features=336, bias=True)\n",
      "    (1): LeakyReLU(negative_slope=0.01)\n",
      "    (2): Linear(in_features=336, out_features=256, bias=True)\n",
      "    (3): LeakyReLU(negative_slope=0.01)\n",
      "  )\n",
      "  (global_pool): MultiAggregation([\n",
      "    AttentionalAggregation(gate_nn=GateMLP(\n",
      "    (sequential): Sequential(\n",
      "      (0): Linear(in_features=256, out_features=64, bias=True)\n",
      "      (1): LeakyReLU(negative_slope=0.01)\n",
      "      (2): Linear(in_features=64, out_features=1, bias=True)\n",
      "      (3): LeakyReLU(negative_slope=0.01)\n",
      "    )\n",
      "  ), nn=None),\n",
      "  ], mode=cat)\n",
      "  (mlp2): Sequential(\n",
      "    (0): Linear(in_features=265, out_features=128, bias=True)\n",
      "    (1): LeakyReLU(negative_slope=0.01)\n",
      "    (2): Linear(in_features=128, out_features=3, bias=True)\n",
      "  )\n",
      ")\n"
     ]
    }
   ],
   "source": [
    "# Initalize your final model\n",
    "model = DynEdgeAttention(\n",
    "    num_node_features=event.x.shape[1], \n",
    "    dim_output=event.y.shape[0], \n",
    "    dropout_rate=DROPOUT_RATE\n",
    ").to(device)\n",
    "\n",
    "# Define save name - dirty\n",
    "# TODO: hide training param into the dict when saving for reloading\n",
    "SAVE_NAME = '03-06-dynedge+attention+xyz'\n",
    "print(SAVE_NAME)\n",
    "\n",
    "print(model)"
   ]
  },
  {
   "cell_type": "code",
   "execution_count": 19,
   "id": "17bcca4b",
   "metadata": {
    "execution": {
     "iopub.execute_input": "2023-03-06T14:45:51.414217Z",
     "iopub.status.busy": "2023-03-06T14:45:51.413921Z",
     "iopub.status.idle": "2023-03-06T14:45:51.419877Z",
     "shell.execute_reply": "2023-03-06T14:45:51.418745Z"
    },
    "id": "04ff84c7",
    "papermill": {
     "duration": 0.017954,
     "end_time": "2023-03-06T14:45:51.421972",
     "exception": false,
     "start_time": "2023-03-06T14:45:51.404018",
     "status": "completed"
    },
    "tags": []
   },
   "outputs": [],
   "source": [
    "# criterion = torch.nn.MSELoss().to(device) # MSE\n",
    "# criterion = torch.nn.L1Loss().to(device) # MAE\n",
    "criterion = VMFLoss().to(device)\n",
    "\n",
    "optimizer = torch.optim.Adam(model.parameters(), \n",
    "                             lr=LR0, \n",
    "                             weight_decay=WEIGHT_DECAY)\n",
    "\n",
    "scheduler = torch.optim.lr_scheduler.ReduceLROnPlateau(\n",
    "    optimizer, \n",
    "    mode='min', \n",
    "    factor=REDUCE_LR_FACTOR, \n",
    "    patience=PATIENCE_LR_PLATEAU, \n",
    "    verbose=True)"
   ]
  },
  {
   "cell_type": "code",
   "execution_count": 20,
   "id": "d5ec6e41",
   "metadata": {
    "execution": {
     "iopub.execute_input": "2023-03-06T14:45:51.440773Z",
     "iopub.status.busy": "2023-03-06T14:45:51.440246Z",
     "iopub.status.idle": "2023-03-06T14:45:51.505535Z",
     "shell.execute_reply": "2023-03-06T14:45:51.503526Z"
    },
    "id": "ebe2e602",
    "outputId": "5baab65e-20bf-4947-9933-9a32ef0beac6",
    "papermill": {
     "duration": 0.077673,
     "end_time": "2023-03-06T14:45:51.508234",
     "exception": false,
     "start_time": "2023-03-06T14:45:51.430561",
     "status": "completed"
    },
    "tags": []
   },
   "outputs": [
    {
     "name": "stdout",
     "output_type": "stream",
     "text": [
      "DynEdgeAttention(\n",
      "  (conv1): DynamicEdgeConv(nn=EdgeConvMLP(\n",
      "    (sequential): Sequential(\n",
      "      (0): Linear(in_features=10, out_features=336, bias=True)\n",
      "      (1): LeakyReLU(negative_slope=0.01)\n",
      "      (2): Linear(in_features=336, out_features=256, bias=True)\n",
      "      (3): LeakyReLU(negative_slope=0.01)\n",
      "    )\n",
      "  ), k=8)\n",
      "  (conv2): DynamicEdgeConv(nn=EdgeConvMLP(\n",
      "    (sequential): Sequential(\n",
      "      (0): Linear(in_features=512, out_features=336, bias=True)\n",
      "      (1): LeakyReLU(negative_slope=0.01)\n",
      "      (2): Linear(in_features=336, out_features=256, bias=True)\n",
      "      (3): LeakyReLU(negative_slope=0.01)\n",
      "    )\n",
      "  ), k=8)\n",
      "  (conv3): DynamicEdgeConv(nn=EdgeConvMLP(\n",
      "    (sequential): Sequential(\n",
      "      (0): Linear(in_features=512, out_features=336, bias=True)\n",
      "      (1): LeakyReLU(negative_slope=0.01)\n",
      "      (2): Linear(in_features=336, out_features=256, bias=True)\n",
      "      (3): LeakyReLU(negative_slope=0.01)\n",
      "    )\n",
      "  ), k=8)\n",
      "  (conv4): DynamicEdgeConv(nn=EdgeConvMLP(\n",
      "    (sequential): Sequential(\n",
      "      (0): Linear(in_features=512, out_features=336, bias=True)\n",
      "      (1): LeakyReLU(negative_slope=0.01)\n",
      "      (2): Linear(in_features=336, out_features=256, bias=True)\n",
      "      (3): LeakyReLU(negative_slope=0.01)\n",
      "    )\n",
      "  ), k=8)\n",
      "  (mlp1): Sequential(\n",
      "    (0): Linear(in_features=1029, out_features=336, bias=True)\n",
      "    (1): LeakyReLU(negative_slope=0.01)\n",
      "    (2): Linear(in_features=336, out_features=256, bias=True)\n",
      "    (3): LeakyReLU(negative_slope=0.01)\n",
      "  )\n",
      "  (global_pool): MultiAggregation([\n",
      "    AttentionalAggregation(gate_nn=GateMLP(\n",
      "    (sequential): Sequential(\n",
      "      (0): Linear(in_features=256, out_features=64, bias=True)\n",
      "      (1): LeakyReLU(negative_slope=0.01)\n",
      "      (2): Linear(in_features=64, out_features=1, bias=True)\n",
      "      (3): LeakyReLU(negative_slope=0.01)\n",
      "    )\n",
      "  ), nn=None),\n",
      "  ], mode=cat)\n",
      "  (mlp2): Sequential(\n",
      "    (0): Linear(in_features=265, out_features=128, bias=True)\n",
      "    (1): LeakyReLU(negative_slope=0.01)\n",
      "    (2): Linear(in_features=128, out_features=3, bias=True)\n",
      "  )\n",
      ")\n"
     ]
    }
   ],
   "source": [
    "# Learning from random initialization can be hard. \n",
    "# Transfer learning can help speeding up the learning process.\n",
    "# If you have any pretrained model, load it here.\n",
    "\n",
    "# PATH = '/content/24-02-dynedge+global+multi+xyz-0to45.pt' # None\n",
    "PATH = '/kaggle/input/107-attention-vmf-0to70/03-05-dynedgeattentionxyz-0to70.pt'\n",
    "\n",
    "if PATH is not None:\n",
    "    model.load_state_dict(torch.load(PATH))\n",
    "    print(model)"
   ]
  },
  {
   "cell_type": "code",
   "execution_count": 21,
   "id": "efa3435d",
   "metadata": {
    "execution": {
     "iopub.execute_input": "2023-03-06T14:45:51.527949Z",
     "iopub.status.busy": "2023-03-06T14:45:51.527255Z",
     "iopub.status.idle": "2023-03-06T19:21:30.851643Z",
     "shell.execute_reply": "2023-03-06T19:21:30.850668Z"
    },
    "id": "afdd8105",
    "outputId": "1681ac9b-c144-4cf6-e79f-a39cf64462ff",
    "papermill": {
     "duration": 16539.337531,
     "end_time": "2023-03-06T19:21:30.854973",
     "exception": false,
     "start_time": "2023-03-06T14:45:51.517442",
     "status": "completed"
    },
    "tags": []
   },
   "outputs": [
    {
     "name": "stdout",
     "output_type": "stream",
     "text": [
      "====== START EPOCH 1 ======\n",
      "Preparing batch 71 ...\n",
      "Loading meta ...\n",
      "Loading sensor ...\n",
      "Loading batch ...\n",
      "Complete.\n",
      "\n"
     ]
    },
    {
     "name": "stderr",
     "output_type": "stream",
     "text": [
      "  0%|          | 1/1000 [00:01<33:13,  2.00s/it]"
     ]
    },
    {
     "name": "stdout",
     "output_type": "stream",
     "text": [
      "Epoch 1 - Batch 0/1000 - Loss -0.2857603132724762 - Angle 1.0558247566223145\n"
     ]
    },
    {
     "name": "stderr",
     "output_type": "stream",
     "text": [
      " 10%|█         | 101/1000 [01:17<11:55,  1.26it/s]"
     ]
    },
    {
     "name": "stdout",
     "output_type": "stream",
     "text": [
      "Epoch 1 - Batch 100/1000 - Loss -0.06781700998544693 - Angle 1.116141676902771\n"
     ]
    },
    {
     "name": "stderr",
     "output_type": "stream",
     "text": [
      " 20%|██        | 201/1000 [02:33<10:16,  1.30it/s]"
     ]
    },
    {
     "name": "stdout",
     "output_type": "stream",
     "text": [
      "Epoch 1 - Batch 200/1000 - Loss -0.07130219042301178 - Angle 1.0627319812774658\n"
     ]
    },
    {
     "name": "stderr",
     "output_type": "stream",
     "text": [
      " 30%|███       | 301/1000 [03:48<08:36,  1.35it/s]"
     ]
    },
    {
     "name": "stdout",
     "output_type": "stream",
     "text": [
      "Epoch 1 - Batch 300/1000 - Loss -0.013831824995577335 - Angle 1.201012134552002\n"
     ]
    },
    {
     "name": "stderr",
     "output_type": "stream",
     "text": [
      " 40%|████      | 401/1000 [05:04<07:33,  1.32it/s]"
     ]
    },
    {
     "name": "stdout",
     "output_type": "stream",
     "text": [
      "Epoch 1 - Batch 400/1000 - Loss -0.23375335335731506 - Angle 1.067857027053833\n"
     ]
    },
    {
     "name": "stderr",
     "output_type": "stream",
     "text": [
      " 50%|█████     | 501/1000 [06:19<06:15,  1.33it/s]"
     ]
    },
    {
     "name": "stdout",
     "output_type": "stream",
     "text": [
      "Epoch 1 - Batch 500/1000 - Loss -0.18878521025180817 - Angle 1.0832055807113647\n"
     ]
    },
    {
     "name": "stderr",
     "output_type": "stream",
     "text": [
      " 60%|██████    | 601/1000 [07:34<05:16,  1.26it/s]"
     ]
    },
    {
     "name": "stdout",
     "output_type": "stream",
     "text": [
      "Epoch 1 - Batch 600/1000 - Loss -0.5774226188659668 - Angle 1.0161453485488892\n"
     ]
    },
    {
     "name": "stderr",
     "output_type": "stream",
     "text": [
      " 70%|███████   | 701/1000 [08:49<03:40,  1.36it/s]"
     ]
    },
    {
     "name": "stdout",
     "output_type": "stream",
     "text": [
      "Epoch 1 - Batch 700/1000 - Loss -0.017528094351291656 - Angle 1.1573970317840576\n"
     ]
    },
    {
     "name": "stderr",
     "output_type": "stream",
     "text": [
      " 80%|████████  | 801/1000 [10:04<02:29,  1.33it/s]"
     ]
    },
    {
     "name": "stdout",
     "output_type": "stream",
     "text": [
      "Epoch 1 - Batch 800/1000 - Loss -0.2459362894296646 - Angle 1.0156617164611816\n"
     ]
    },
    {
     "name": "stderr",
     "output_type": "stream",
     "text": [
      " 90%|█████████ | 901/1000 [11:19<01:17,  1.27it/s]"
     ]
    },
    {
     "name": "stdout",
     "output_type": "stream",
     "text": [
      "Epoch 1 - Batch 900/1000 - Loss -0.120754174888134 - Angle 1.1701699495315552\n"
     ]
    },
    {
     "name": "stderr",
     "output_type": "stream",
     "text": [
      "100%|██████████| 1000/1000 [12:33<00:00,  1.33it/s]\n",
      "  1%|          | 1/100 [00:00<01:18,  1.25it/s]"
     ]
    },
    {
     "name": "stdout",
     "output_type": "stream",
     "text": [
      "Epoch 1 - Batch 0/100 - Val loss -0.30752119421958923 - Val angle 0.9737591743469238\n"
     ]
    },
    {
     "name": "stderr",
     "output_type": "stream",
     "text": [
      "100%|██████████| 100/100 [01:10<00:00,  1.41it/s]\n"
     ]
    },
    {
     "name": "stdout",
     "output_type": "stream",
     "text": [
      "Epoch 001 - Loss -0.1524, Angle 1.0743765269517898 - Val_loss -0.1746, Val_angle 1.0744988805055617\n",
      "====== START EPOCH 2 ======\n",
      "Preparing batch 72 ...\n",
      "Loading meta ...\n",
      "Loading sensor ...\n",
      "Loading batch ...\n",
      "Complete.\n",
      "\n"
     ]
    },
    {
     "name": "stderr",
     "output_type": "stream",
     "text": [
      "  0%|          | 1/1000 [00:00<12:27,  1.34it/s]"
     ]
    },
    {
     "name": "stdout",
     "output_type": "stream",
     "text": [
      "Epoch 2 - Batch 0/1000 - Loss -0.23979972302913666 - Angle 1.0826046466827393\n"
     ]
    },
    {
     "name": "stderr",
     "output_type": "stream",
     "text": [
      " 10%|█         | 101/1000 [01:17<11:31,  1.30it/s]"
     ]
    },
    {
     "name": "stdout",
     "output_type": "stream",
     "text": [
      "Epoch 2 - Batch 100/1000 - Loss -0.027535580098628998 - Angle 0.9593618512153625\n"
     ]
    },
    {
     "name": "stderr",
     "output_type": "stream",
     "text": [
      " 20%|██        | 201/1000 [02:34<09:53,  1.35it/s]"
     ]
    },
    {
     "name": "stdout",
     "output_type": "stream",
     "text": [
      "Epoch 2 - Batch 200/1000 - Loss -0.3600176274776459 - Angle 1.0206973552703857\n"
     ]
    },
    {
     "name": "stderr",
     "output_type": "stream",
     "text": [
      " 30%|███       | 301/1000 [03:50<09:11,  1.27it/s]"
     ]
    },
    {
     "name": "stdout",
     "output_type": "stream",
     "text": [
      "Epoch 2 - Batch 300/1000 - Loss -0.08552508056163788 - Angle 1.067520022392273\n"
     ]
    },
    {
     "name": "stderr",
     "output_type": "stream",
     "text": [
      " 40%|████      | 401/1000 [05:06<07:35,  1.32it/s]"
     ]
    },
    {
     "name": "stdout",
     "output_type": "stream",
     "text": [
      "Epoch 2 - Batch 400/1000 - Loss -0.258853018283844 - Angle 1.0276168584823608\n"
     ]
    },
    {
     "name": "stderr",
     "output_type": "stream",
     "text": [
      " 50%|█████     | 501/1000 [06:20<06:33,  1.27it/s]"
     ]
    },
    {
     "name": "stdout",
     "output_type": "stream",
     "text": [
      "Epoch 2 - Batch 500/1000 - Loss -0.23888945579528809 - Angle 1.0418200492858887\n"
     ]
    },
    {
     "name": "stderr",
     "output_type": "stream",
     "text": [
      " 60%|██████    | 601/1000 [07:35<04:52,  1.36it/s]"
     ]
    },
    {
     "name": "stdout",
     "output_type": "stream",
     "text": [
      "Epoch 2 - Batch 600/1000 - Loss -0.06240696832537651 - Angle 1.1878410577774048\n"
     ]
    },
    {
     "name": "stderr",
     "output_type": "stream",
     "text": [
      " 70%|███████   | 701/1000 [08:49<03:39,  1.36it/s]"
     ]
    },
    {
     "name": "stdout",
     "output_type": "stream",
     "text": [
      "Epoch 2 - Batch 700/1000 - Loss -0.15328188240528107 - Angle 1.1758235692977905\n"
     ]
    },
    {
     "name": "stderr",
     "output_type": "stream",
     "text": [
      " 80%|████████  | 801/1000 [10:04<02:29,  1.33it/s]"
     ]
    },
    {
     "name": "stdout",
     "output_type": "stream",
     "text": [
      "Epoch 2 - Batch 800/1000 - Loss -0.13158394396305084 - Angle 1.086336612701416\n"
     ]
    },
    {
     "name": "stderr",
     "output_type": "stream",
     "text": [
      " 90%|█████████ | 901/1000 [11:18<01:13,  1.34it/s]"
     ]
    },
    {
     "name": "stdout",
     "output_type": "stream",
     "text": [
      "Epoch 2 - Batch 900/1000 - Loss -0.28516799211502075 - Angle 1.0614852905273438\n"
     ]
    },
    {
     "name": "stderr",
     "output_type": "stream",
     "text": [
      "100%|██████████| 1000/1000 [12:31<00:00,  1.33it/s]\n",
      "  1%|          | 1/100 [00:00<01:16,  1.29it/s]"
     ]
    },
    {
     "name": "stdout",
     "output_type": "stream",
     "text": [
      "Epoch 2 - Batch 0/100 - Val loss -0.3194120228290558 - Val angle 0.9711961150169373\n"
     ]
    },
    {
     "name": "stderr",
     "output_type": "stream",
     "text": [
      "100%|██████████| 100/100 [01:10<00:00,  1.41it/s]\n"
     ]
    },
    {
     "name": "stdout",
     "output_type": "stream",
     "text": [
      "Epoch 002 - Loss -0.1595, Angle 1.0736868356466294 - Val_loss -0.1727, Val_angle 1.0747650927305221\n",
      "====== START EPOCH 3 ======\n",
      "Preparing batch 73 ...\n",
      "Loading meta ...\n",
      "Loading sensor ...\n",
      "Loading batch ...\n",
      "Complete.\n",
      "\n"
     ]
    },
    {
     "name": "stderr",
     "output_type": "stream",
     "text": [
      "  0%|          | 1/1000 [00:00<15:26,  1.08it/s]"
     ]
    },
    {
     "name": "stdout",
     "output_type": "stream",
     "text": [
      "Epoch 3 - Batch 0/1000 - Loss -0.2802870571613312 - Angle 1.0851205587387085\n"
     ]
    },
    {
     "name": "stderr",
     "output_type": "stream",
     "text": [
      " 10%|█         | 101/1000 [01:15<10:37,  1.41it/s]"
     ]
    },
    {
     "name": "stdout",
     "output_type": "stream",
     "text": [
      "Epoch 3 - Batch 100/1000 - Loss -0.10720670223236084 - Angle 1.1087874174118042\n"
     ]
    },
    {
     "name": "stderr",
     "output_type": "stream",
     "text": [
      " 20%|██        | 201/1000 [02:31<09:51,  1.35it/s]"
     ]
    },
    {
     "name": "stdout",
     "output_type": "stream",
     "text": [
      "Epoch 3 - Batch 200/1000 - Loss -0.23848335444927216 - Angle 1.0404340028762817\n"
     ]
    },
    {
     "name": "stderr",
     "output_type": "stream",
     "text": [
      " 30%|███       | 301/1000 [03:46<08:24,  1.39it/s]"
     ]
    },
    {
     "name": "stdout",
     "output_type": "stream",
     "text": [
      "Epoch 3 - Batch 300/1000 - Loss 0.045170169323682785 - Angle 1.091923475265503\n"
     ]
    },
    {
     "name": "stderr",
     "output_type": "stream",
     "text": [
      " 40%|████      | 401/1000 [05:00<07:21,  1.36it/s]"
     ]
    },
    {
     "name": "stdout",
     "output_type": "stream",
     "text": [
      "Epoch 3 - Batch 400/1000 - Loss -0.18404866755008698 - Angle 1.1301683187484741\n"
     ]
    },
    {
     "name": "stderr",
     "output_type": "stream",
     "text": [
      " 50%|█████     | 501/1000 [06:17<06:42,  1.24it/s]"
     ]
    },
    {
     "name": "stdout",
     "output_type": "stream",
     "text": [
      "Epoch 3 - Batch 500/1000 - Loss 0.0438605472445488 - Angle 1.0365653038024902\n"
     ]
    },
    {
     "name": "stderr",
     "output_type": "stream",
     "text": [
      " 60%|██████    | 601/1000 [07:32<04:58,  1.34it/s]"
     ]
    },
    {
     "name": "stdout",
     "output_type": "stream",
     "text": [
      "Epoch 3 - Batch 600/1000 - Loss -0.3572006821632385 - Angle 1.0830929279327393\n"
     ]
    },
    {
     "name": "stderr",
     "output_type": "stream",
     "text": [
      " 70%|███████   | 701/1000 [08:47<04:00,  1.24it/s]"
     ]
    },
    {
     "name": "stdout",
     "output_type": "stream",
     "text": [
      "Epoch 3 - Batch 700/1000 - Loss -0.27918827533721924 - Angle 1.0523262023925781\n"
     ]
    },
    {
     "name": "stderr",
     "output_type": "stream",
     "text": [
      " 80%|████████  | 801/1000 [10:01<02:21,  1.41it/s]"
     ]
    },
    {
     "name": "stdout",
     "output_type": "stream",
     "text": [
      "Epoch 3 - Batch 800/1000 - Loss -0.06306277215480804 - Angle 1.0309078693389893\n"
     ]
    },
    {
     "name": "stderr",
     "output_type": "stream",
     "text": [
      " 90%|█████████ | 901/1000 [11:16<01:16,  1.29it/s]"
     ]
    },
    {
     "name": "stdout",
     "output_type": "stream",
     "text": [
      "Epoch 3 - Batch 900/1000 - Loss -0.22724631428718567 - Angle 0.9956398010253906\n"
     ]
    },
    {
     "name": "stderr",
     "output_type": "stream",
     "text": [
      "100%|██████████| 1000/1000 [12:30<00:00,  1.33it/s]\n",
      "  1%|          | 1/100 [00:00<01:17,  1.28it/s]"
     ]
    },
    {
     "name": "stdout",
     "output_type": "stream",
     "text": [
      "Epoch 3 - Batch 0/100 - Val loss -0.31093719601631165 - Val angle 0.9714404344558716\n"
     ]
    },
    {
     "name": "stderr",
     "output_type": "stream",
     "text": [
      "100%|██████████| 100/100 [01:11<00:00,  1.41it/s]\n"
     ]
    },
    {
     "name": "stdout",
     "output_type": "stream",
     "text": [
      "Epoch 003 - Loss -0.1604, Angle 1.0726298059821129 - Val_loss -0.1708, Val_angle 1.0745183628797532\n",
      "====== START EPOCH 4 ======\n",
      "Preparing batch 74 ...\n",
      "Loading meta ...\n",
      "Loading sensor ...\n",
      "Loading batch ...\n",
      "Complete.\n",
      "\n"
     ]
    },
    {
     "name": "stderr",
     "output_type": "stream",
     "text": [
      "  0%|          | 1/1000 [00:00<13:42,  1.21it/s]"
     ]
    },
    {
     "name": "stdout",
     "output_type": "stream",
     "text": [
      "Epoch 4 - Batch 0/1000 - Loss -0.19499771296977997 - Angle 0.9565497040748596\n"
     ]
    },
    {
     "name": "stderr",
     "output_type": "stream",
     "text": [
      " 10%|█         | 101/1000 [01:16<11:27,  1.31it/s]"
     ]
    },
    {
     "name": "stdout",
     "output_type": "stream",
     "text": [
      "Epoch 4 - Batch 100/1000 - Loss -0.03399134427309036 - Angle 1.0781357288360596\n"
     ]
    },
    {
     "name": "stderr",
     "output_type": "stream",
     "text": [
      " 20%|██        | 201/1000 [02:31<09:45,  1.37it/s]"
     ]
    },
    {
     "name": "stdout",
     "output_type": "stream",
     "text": [
      "Epoch 4 - Batch 200/1000 - Loss 0.09432646632194519 - Angle 1.2379965782165527\n"
     ]
    },
    {
     "name": "stderr",
     "output_type": "stream",
     "text": [
      " 30%|███       | 301/1000 [03:46<08:36,  1.35it/s]"
     ]
    },
    {
     "name": "stdout",
     "output_type": "stream",
     "text": [
      "Epoch 4 - Batch 300/1000 - Loss -0.1818397045135498 - Angle 1.0949889421463013\n"
     ]
    },
    {
     "name": "stderr",
     "output_type": "stream",
     "text": [
      " 40%|████      | 401/1000 [05:01<07:30,  1.33it/s]"
     ]
    },
    {
     "name": "stdout",
     "output_type": "stream",
     "text": [
      "Epoch 4 - Batch 400/1000 - Loss -0.09715691953897476 - Angle 1.0876290798187256\n"
     ]
    },
    {
     "name": "stderr",
     "output_type": "stream",
     "text": [
      " 50%|█████     | 501/1000 [06:16<06:45,  1.23it/s]"
     ]
    },
    {
     "name": "stdout",
     "output_type": "stream",
     "text": [
      "Epoch 4 - Batch 500/1000 - Loss -0.3245306611061096 - Angle 0.9743390083312988\n"
     ]
    },
    {
     "name": "stderr",
     "output_type": "stream",
     "text": [
      " 60%|██████    | 601/1000 [07:31<04:55,  1.35it/s]"
     ]
    },
    {
     "name": "stdout",
     "output_type": "stream",
     "text": [
      "Epoch 4 - Batch 600/1000 - Loss -0.20846445858478546 - Angle 1.1423759460449219\n"
     ]
    },
    {
     "name": "stderr",
     "output_type": "stream",
     "text": [
      " 70%|███████   | 701/1000 [08:48<03:42,  1.34it/s]"
     ]
    },
    {
     "name": "stdout",
     "output_type": "stream",
     "text": [
      "Epoch 4 - Batch 700/1000 - Loss -0.21052704751491547 - Angle 1.063896656036377\n"
     ]
    },
    {
     "name": "stderr",
     "output_type": "stream",
     "text": [
      " 80%|████████  | 801/1000 [10:03<02:23,  1.39it/s]"
     ]
    },
    {
     "name": "stdout",
     "output_type": "stream",
     "text": [
      "Epoch 4 - Batch 800/1000 - Loss -0.6683148741722107 - Angle 0.8619316220283508\n"
     ]
    },
    {
     "name": "stderr",
     "output_type": "stream",
     "text": [
      " 90%|█████████ | 901/1000 [11:20<01:15,  1.30it/s]"
     ]
    },
    {
     "name": "stdout",
     "output_type": "stream",
     "text": [
      "Epoch 4 - Batch 900/1000 - Loss -0.16951410472393036 - Angle 1.0386289358139038\n"
     ]
    },
    {
     "name": "stderr",
     "output_type": "stream",
     "text": [
      "100%|██████████| 1000/1000 [12:35<00:00,  1.32it/s]\n",
      "  1%|          | 1/100 [00:00<01:17,  1.28it/s]"
     ]
    },
    {
     "name": "stdout",
     "output_type": "stream",
     "text": [
      "Epoch 4 - Batch 0/100 - Val loss -0.32287609577178955 - Val angle 0.9716970920562744\n"
     ]
    },
    {
     "name": "stderr",
     "output_type": "stream",
     "text": [
      "100%|██████████| 100/100 [01:12<00:00,  1.38it/s]\n"
     ]
    },
    {
     "name": "stdout",
     "output_type": "stream",
     "text": [
      "Epoch 004 - Loss -0.1566, Angle 1.0752339725494384 - Val_loss -0.1723, Val_angle 1.0744280284643173\n",
      "====== START EPOCH 5 ======\n",
      "Preparing batch 75 ...\n",
      "Loading meta ...\n",
      "Loading sensor ...\n",
      "Loading batch ...\n",
      "Complete.\n",
      "\n"
     ]
    },
    {
     "name": "stderr",
     "output_type": "stream",
     "text": [
      "  0%|          | 1/1000 [00:00<14:20,  1.16it/s]"
     ]
    },
    {
     "name": "stdout",
     "output_type": "stream",
     "text": [
      "Epoch 5 - Batch 0/1000 - Loss -0.2158896028995514 - Angle 1.0083259344100952\n"
     ]
    },
    {
     "name": "stderr",
     "output_type": "stream",
     "text": [
      " 10%|█         | 101/1000 [01:16<11:56,  1.25it/s]"
     ]
    },
    {
     "name": "stdout",
     "output_type": "stream",
     "text": [
      "Epoch 5 - Batch 100/1000 - Loss -0.08247219026088715 - Angle 1.1229338645935059\n"
     ]
    },
    {
     "name": "stderr",
     "output_type": "stream",
     "text": [
      " 20%|██        | 201/1000 [02:32<11:14,  1.19it/s]"
     ]
    },
    {
     "name": "stdout",
     "output_type": "stream",
     "text": [
      "Epoch 5 - Batch 200/1000 - Loss -0.13578762114048004 - Angle 1.1277072429656982\n"
     ]
    },
    {
     "name": "stderr",
     "output_type": "stream",
     "text": [
      " 30%|███       | 301/1000 [03:48<08:36,  1.35it/s]"
     ]
    },
    {
     "name": "stdout",
     "output_type": "stream",
     "text": [
      "Epoch 5 - Batch 300/1000 - Loss -0.31611576676368713 - Angle 0.9734512567520142\n"
     ]
    },
    {
     "name": "stderr",
     "output_type": "stream",
     "text": [
      " 40%|████      | 401/1000 [05:03<07:16,  1.37it/s]"
     ]
    },
    {
     "name": "stdout",
     "output_type": "stream",
     "text": [
      "Epoch 5 - Batch 400/1000 - Loss -0.09965989738702774 - Angle 1.1274358034133911\n"
     ]
    },
    {
     "name": "stderr",
     "output_type": "stream",
     "text": [
      " 50%|█████     | 501/1000 [06:18<06:19,  1.32it/s]"
     ]
    },
    {
     "name": "stdout",
     "output_type": "stream",
     "text": [
      "Epoch 5 - Batch 500/1000 - Loss -0.29283925890922546 - Angle 1.0037307739257812\n"
     ]
    },
    {
     "name": "stderr",
     "output_type": "stream",
     "text": [
      " 60%|██████    | 601/1000 [07:32<04:46,  1.39it/s]"
     ]
    },
    {
     "name": "stdout",
     "output_type": "stream",
     "text": [
      "Epoch 5 - Batch 600/1000 - Loss -0.08350712805986404 - Angle 1.0468460321426392\n"
     ]
    },
    {
     "name": "stderr",
     "output_type": "stream",
     "text": [
      " 70%|███████   | 701/1000 [08:47<03:49,  1.30it/s]"
     ]
    },
    {
     "name": "stdout",
     "output_type": "stream",
     "text": [
      "Epoch 5 - Batch 700/1000 - Loss -0.2475215345621109 - Angle 1.022578239440918\n"
     ]
    },
    {
     "name": "stderr",
     "output_type": "stream",
     "text": [
      " 80%|████████  | 801/1000 [10:01<02:19,  1.43it/s]"
     ]
    },
    {
     "name": "stdout",
     "output_type": "stream",
     "text": [
      "Epoch 5 - Batch 800/1000 - Loss -0.13390417397022247 - Angle 1.1292500495910645\n"
     ]
    },
    {
     "name": "stderr",
     "output_type": "stream",
     "text": [
      " 90%|█████████ | 901/1000 [11:15<01:11,  1.39it/s]"
     ]
    },
    {
     "name": "stdout",
     "output_type": "stream",
     "text": [
      "Epoch 5 - Batch 900/1000 - Loss -0.12096124142408371 - Angle 1.0755325555801392\n"
     ]
    },
    {
     "name": "stderr",
     "output_type": "stream",
     "text": [
      "100%|██████████| 1000/1000 [12:28<00:00,  1.34it/s]\n",
      "  1%|          | 1/100 [00:00<01:18,  1.26it/s]"
     ]
    },
    {
     "name": "stdout",
     "output_type": "stream",
     "text": [
      "Epoch 5 - Batch 0/100 - Val loss -0.3049702048301697 - Val angle 0.9741008877754211\n"
     ]
    },
    {
     "name": "stderr",
     "output_type": "stream",
     "text": [
      "100%|██████████| 100/100 [01:10<00:00,  1.42it/s]\n"
     ]
    },
    {
     "name": "stdout",
     "output_type": "stream",
     "text": [
      "Epoch 005 - Loss -0.1642, Angle 1.0730407346487045 - Val_loss -0.1738, Val_angle 1.0738613200187683\n",
      "====== START EPOCH 6 ======\n",
      "Preparing batch 76 ...\n",
      "Loading meta ...\n",
      "Loading sensor ...\n",
      "Loading batch ...\n",
      "Complete.\n",
      "\n"
     ]
    },
    {
     "name": "stderr",
     "output_type": "stream",
     "text": [
      "  0%|          | 1/1000 [00:00<11:58,  1.39it/s]"
     ]
    },
    {
     "name": "stdout",
     "output_type": "stream",
     "text": [
      "Epoch 6 - Batch 0/1000 - Loss -0.16755107045173645 - Angle 1.0922755002975464\n"
     ]
    },
    {
     "name": "stderr",
     "output_type": "stream",
     "text": [
      " 10%|█         | 101/1000 [01:14<10:41,  1.40it/s]"
     ]
    },
    {
     "name": "stdout",
     "output_type": "stream",
     "text": [
      "Epoch 6 - Batch 100/1000 - Loss -0.05656227096915245 - Angle 1.1227788925170898\n"
     ]
    },
    {
     "name": "stderr",
     "output_type": "stream",
     "text": [
      " 20%|██        | 201/1000 [02:29<10:01,  1.33it/s]"
     ]
    },
    {
     "name": "stdout",
     "output_type": "stream",
     "text": [
      "Epoch 6 - Batch 200/1000 - Loss -0.14912590384483337 - Angle 1.0335168838500977\n"
     ]
    },
    {
     "name": "stderr",
     "output_type": "stream",
     "text": [
      " 30%|███       | 301/1000 [03:43<08:27,  1.38it/s]"
     ]
    },
    {
     "name": "stdout",
     "output_type": "stream",
     "text": [
      "Epoch 6 - Batch 300/1000 - Loss -0.2577838897705078 - Angle 1.0621638298034668\n"
     ]
    },
    {
     "name": "stderr",
     "output_type": "stream",
     "text": [
      " 40%|████      | 401/1000 [04:57<07:16,  1.37it/s]"
     ]
    },
    {
     "name": "stdout",
     "output_type": "stream",
     "text": [
      "Epoch 6 - Batch 400/1000 - Loss -0.041983891278505325 - Angle 0.9871720671653748\n"
     ]
    },
    {
     "name": "stderr",
     "output_type": "stream",
     "text": [
      " 50%|█████     | 501/1000 [06:12<06:13,  1.34it/s]"
     ]
    },
    {
     "name": "stdout",
     "output_type": "stream",
     "text": [
      "Epoch 6 - Batch 500/1000 - Loss -0.046897366642951965 - Angle 1.0534672737121582\n"
     ]
    },
    {
     "name": "stderr",
     "output_type": "stream",
     "text": [
      " 60%|██████    | 601/1000 [07:26<05:02,  1.32it/s]"
     ]
    },
    {
     "name": "stdout",
     "output_type": "stream",
     "text": [
      "Epoch 6 - Batch 600/1000 - Loss -0.3634558916091919 - Angle 1.0966204404830933\n"
     ]
    },
    {
     "name": "stderr",
     "output_type": "stream",
     "text": [
      " 70%|███████   | 701/1000 [08:40<03:39,  1.36it/s]"
     ]
    },
    {
     "name": "stdout",
     "output_type": "stream",
     "text": [
      "Epoch 6 - Batch 700/1000 - Loss -0.08830582350492477 - Angle 1.0870246887207031\n"
     ]
    },
    {
     "name": "stderr",
     "output_type": "stream",
     "text": [
      " 80%|████████  | 801/1000 [09:55<02:23,  1.39it/s]"
     ]
    },
    {
     "name": "stdout",
     "output_type": "stream",
     "text": [
      "Epoch 6 - Batch 800/1000 - Loss -0.235350102186203 - Angle 1.1255004405975342\n"
     ]
    },
    {
     "name": "stderr",
     "output_type": "stream",
     "text": [
      " 90%|█████████ | 901/1000 [11:09<01:12,  1.36it/s]"
     ]
    },
    {
     "name": "stdout",
     "output_type": "stream",
     "text": [
      "Epoch 6 - Batch 900/1000 - Loss -0.10771766304969788 - Angle 1.0982213020324707\n"
     ]
    },
    {
     "name": "stderr",
     "output_type": "stream",
     "text": [
      "100%|██████████| 1000/1000 [12:23<00:00,  1.35it/s]\n",
      "  1%|          | 1/100 [00:00<01:15,  1.32it/s]"
     ]
    },
    {
     "name": "stdout",
     "output_type": "stream",
     "text": [
      "Epoch 6 - Batch 0/100 - Val loss -0.2933681607246399 - Val angle 0.975554347038269\n"
     ]
    },
    {
     "name": "stderr",
     "output_type": "stream",
     "text": [
      "100%|██████████| 100/100 [01:11<00:00,  1.41it/s]\n"
     ]
    },
    {
     "name": "stdout",
     "output_type": "stream",
     "text": [
      "Epoch 00006: reducing learning rate of group 0 to 1.0000e-07.\n",
      "Epoch 006 - Loss -0.1553, Angle 1.0717059507369995 - Val_loss -0.1739, Val_angle 1.0738251221179962\n",
      "====== START EPOCH 7 ======\n",
      "Preparing batch 77 ...\n",
      "Loading meta ...\n",
      "Loading sensor ...\n",
      "Loading batch ...\n",
      "Complete.\n",
      "\n"
     ]
    },
    {
     "name": "stderr",
     "output_type": "stream",
     "text": [
      "  0%|          | 1/1000 [00:00<12:23,  1.34it/s]"
     ]
    },
    {
     "name": "stdout",
     "output_type": "stream",
     "text": [
      "Epoch 7 - Batch 0/1000 - Loss -0.46319320797920227 - Angle 1.005223274230957\n"
     ]
    },
    {
     "name": "stderr",
     "output_type": "stream",
     "text": [
      " 10%|█         | 101/1000 [01:15<11:28,  1.31it/s]"
     ]
    },
    {
     "name": "stdout",
     "output_type": "stream",
     "text": [
      "Epoch 7 - Batch 100/1000 - Loss -0.27951857447624207 - Angle 1.0442527532577515\n"
     ]
    },
    {
     "name": "stderr",
     "output_type": "stream",
     "text": [
      " 20%|██        | 201/1000 [02:29<09:50,  1.35it/s]"
     ]
    },
    {
     "name": "stdout",
     "output_type": "stream",
     "text": [
      "Epoch 7 - Batch 200/1000 - Loss -0.04666605964303017 - Angle 1.1132967472076416\n"
     ]
    },
    {
     "name": "stderr",
     "output_type": "stream",
     "text": [
      " 30%|███       | 301/1000 [03:43<08:39,  1.34it/s]"
     ]
    },
    {
     "name": "stdout",
     "output_type": "stream",
     "text": [
      "Epoch 7 - Batch 300/1000 - Loss -0.3053283095359802 - Angle 1.0496219396591187\n"
     ]
    },
    {
     "name": "stderr",
     "output_type": "stream",
     "text": [
      " 40%|████      | 401/1000 [04:58<07:15,  1.38it/s]"
     ]
    },
    {
     "name": "stdout",
     "output_type": "stream",
     "text": [
      "Epoch 7 - Batch 400/1000 - Loss -0.1348353922367096 - Angle 1.115407109260559\n"
     ]
    },
    {
     "name": "stderr",
     "output_type": "stream",
     "text": [
      " 50%|█████     | 501/1000 [06:13<06:15,  1.33it/s]"
     ]
    },
    {
     "name": "stdout",
     "output_type": "stream",
     "text": [
      "Epoch 7 - Batch 500/1000 - Loss 0.028310338035225868 - Angle 1.0697346925735474\n"
     ]
    },
    {
     "name": "stderr",
     "output_type": "stream",
     "text": [
      " 60%|██████    | 601/1000 [07:27<04:57,  1.34it/s]"
     ]
    },
    {
     "name": "stdout",
     "output_type": "stream",
     "text": [
      "Epoch 7 - Batch 600/1000 - Loss -0.15989597141742706 - Angle 1.084427833557129\n"
     ]
    },
    {
     "name": "stderr",
     "output_type": "stream",
     "text": [
      " 70%|███████   | 701/1000 [08:42<03:48,  1.31it/s]"
     ]
    },
    {
     "name": "stdout",
     "output_type": "stream",
     "text": [
      "Epoch 7 - Batch 700/1000 - Loss -0.3721961975097656 - Angle 1.065406084060669\n"
     ]
    },
    {
     "name": "stderr",
     "output_type": "stream",
     "text": [
      " 80%|████████  | 801/1000 [09:55<02:21,  1.41it/s]"
     ]
    },
    {
     "name": "stdout",
     "output_type": "stream",
     "text": [
      "Epoch 7 - Batch 800/1000 - Loss -0.09584879875183105 - Angle 1.130077838897705\n"
     ]
    },
    {
     "name": "stderr",
     "output_type": "stream",
     "text": [
      " 90%|█████████ | 901/1000 [11:09<01:13,  1.34it/s]"
     ]
    },
    {
     "name": "stdout",
     "output_type": "stream",
     "text": [
      "Epoch 7 - Batch 900/1000 - Loss -0.15752936899662018 - Angle 1.0662600994110107\n"
     ]
    },
    {
     "name": "stderr",
     "output_type": "stream",
     "text": [
      "100%|██████████| 1000/1000 [12:23<00:00,  1.34it/s]\n",
      "  1%|          | 1/100 [00:00<01:15,  1.30it/s]"
     ]
    },
    {
     "name": "stdout",
     "output_type": "stream",
     "text": [
      "Epoch 7 - Batch 0/100 - Val loss -0.30962276458740234 - Val angle 0.9737507700920105\n"
     ]
    },
    {
     "name": "stderr",
     "output_type": "stream",
     "text": [
      "100%|██████████| 100/100 [01:10<00:00,  1.43it/s]\n"
     ]
    },
    {
     "name": "stdout",
     "output_type": "stream",
     "text": [
      "Epoch 007 - Loss -0.1550, Angle 1.0765408371686935 - Val_loss -0.1744, Val_angle 1.0737359315156936\n",
      "====== START EPOCH 8 ======\n",
      "Preparing batch 78 ...\n",
      "Loading meta ...\n",
      "Loading sensor ...\n",
      "Loading batch ...\n",
      "Complete.\n",
      "\n"
     ]
    },
    {
     "name": "stderr",
     "output_type": "stream",
     "text": [
      "  0%|          | 1/1000 [00:00<15:09,  1.10it/s]"
     ]
    },
    {
     "name": "stdout",
     "output_type": "stream",
     "text": [
      "Epoch 8 - Batch 0/1000 - Loss -0.041313476860523224 - Angle 1.067537546157837\n"
     ]
    },
    {
     "name": "stderr",
     "output_type": "stream",
     "text": [
      " 10%|█         | 101/1000 [01:14<11:15,  1.33it/s]"
     ]
    },
    {
     "name": "stdout",
     "output_type": "stream",
     "text": [
      "Epoch 8 - Batch 100/1000 - Loss -0.15540845692157745 - Angle 0.9866651892662048\n"
     ]
    },
    {
     "name": "stderr",
     "output_type": "stream",
     "text": [
      " 20%|██        | 201/1000 [02:28<10:02,  1.33it/s]"
     ]
    },
    {
     "name": "stdout",
     "output_type": "stream",
     "text": [
      "Epoch 8 - Batch 200/1000 - Loss -0.40309011936187744 - Angle 1.0282729864120483\n"
     ]
    },
    {
     "name": "stderr",
     "output_type": "stream",
     "text": [
      " 30%|███       | 301/1000 [03:42<08:35,  1.36it/s]"
     ]
    },
    {
     "name": "stdout",
     "output_type": "stream",
     "text": [
      "Epoch 8 - Batch 300/1000 - Loss -0.046397916972637177 - Angle 1.1345325708389282\n"
     ]
    },
    {
     "name": "stderr",
     "output_type": "stream",
     "text": [
      " 40%|████      | 401/1000 [04:59<07:44,  1.29it/s]"
     ]
    },
    {
     "name": "stdout",
     "output_type": "stream",
     "text": [
      "Epoch 8 - Batch 400/1000 - Loss -0.2512945830821991 - Angle 1.0620273351669312\n"
     ]
    },
    {
     "name": "stderr",
     "output_type": "stream",
     "text": [
      " 50%|█████     | 501/1000 [06:15<06:23,  1.30it/s]"
     ]
    },
    {
     "name": "stdout",
     "output_type": "stream",
     "text": [
      "Epoch 8 - Batch 500/1000 - Loss -0.16393828392028809 - Angle 1.0801610946655273\n"
     ]
    },
    {
     "name": "stderr",
     "output_type": "stream",
     "text": [
      " 60%|██████    | 601/1000 [07:30<04:40,  1.42it/s]"
     ]
    },
    {
     "name": "stdout",
     "output_type": "stream",
     "text": [
      "Epoch 8 - Batch 600/1000 - Loss 0.3024257719516754 - Angle 1.0442872047424316\n"
     ]
    },
    {
     "name": "stderr",
     "output_type": "stream",
     "text": [
      " 70%|███████   | 701/1000 [08:44<03:34,  1.40it/s]"
     ]
    },
    {
     "name": "stdout",
     "output_type": "stream",
     "text": [
      "Epoch 8 - Batch 700/1000 - Loss -0.028881588950753212 - Angle 1.0648086071014404\n"
     ]
    },
    {
     "name": "stderr",
     "output_type": "stream",
     "text": [
      " 80%|████████  | 801/1000 [09:59<02:29,  1.33it/s]"
     ]
    },
    {
     "name": "stdout",
     "output_type": "stream",
     "text": [
      "Epoch 8 - Batch 800/1000 - Loss -0.190510556101799 - Angle 1.0295008420944214\n"
     ]
    },
    {
     "name": "stderr",
     "output_type": "stream",
     "text": [
      " 90%|█████████ | 901/1000 [11:14<01:12,  1.37it/s]"
     ]
    },
    {
     "name": "stdout",
     "output_type": "stream",
     "text": [
      "Epoch 8 - Batch 900/1000 - Loss -0.25738877058029175 - Angle 1.1098119020462036\n"
     ]
    },
    {
     "name": "stderr",
     "output_type": "stream",
     "text": [
      "100%|██████████| 1000/1000 [12:28<00:00,  1.34it/s]\n",
      "  1%|          | 1/100 [00:00<01:16,  1.30it/s]"
     ]
    },
    {
     "name": "stdout",
     "output_type": "stream",
     "text": [
      "Epoch 8 - Batch 0/100 - Val loss -0.30165693163871765 - Val angle 0.9759124517440796\n"
     ]
    },
    {
     "name": "stderr",
     "output_type": "stream",
     "text": [
      "100%|██████████| 100/100 [01:10<00:00,  1.42it/s]\n"
     ]
    },
    {
     "name": "stdout",
     "output_type": "stream",
     "text": [
      "Epoch 008 - Loss -0.1594, Angle 1.0733144830465318 - Val_loss -0.1733, Val_angle 1.07419289290905\n",
      "====== START EPOCH 9 ======\n",
      "Preparing batch 79 ...\n",
      "Loading meta ...\n",
      "Loading sensor ...\n",
      "Loading batch ...\n",
      "Complete.\n",
      "\n"
     ]
    },
    {
     "name": "stderr",
     "output_type": "stream",
     "text": [
      "  0%|          | 1/1000 [00:00<12:39,  1.31it/s]"
     ]
    },
    {
     "name": "stdout",
     "output_type": "stream",
     "text": [
      "Epoch 9 - Batch 0/1000 - Loss 0.015179209411144257 - Angle 1.0450067520141602\n"
     ]
    },
    {
     "name": "stderr",
     "output_type": "stream",
     "text": [
      " 10%|█         | 101/1000 [01:15<10:55,  1.37it/s]"
     ]
    },
    {
     "name": "stdout",
     "output_type": "stream",
     "text": [
      "Epoch 9 - Batch 100/1000 - Loss -0.20327195525169373 - Angle 1.0865051746368408\n"
     ]
    },
    {
     "name": "stderr",
     "output_type": "stream",
     "text": [
      " 20%|██        | 201/1000 [02:29<09:48,  1.36it/s]"
     ]
    },
    {
     "name": "stdout",
     "output_type": "stream",
     "text": [
      "Epoch 9 - Batch 200/1000 - Loss -0.3377329111099243 - Angle 0.9865910410881042\n"
     ]
    },
    {
     "name": "stderr",
     "output_type": "stream",
     "text": [
      " 30%|███       | 301/1000 [03:43<08:29,  1.37it/s]"
     ]
    },
    {
     "name": "stdout",
     "output_type": "stream",
     "text": [
      "Epoch 9 - Batch 300/1000 - Loss 0.12117860466241837 - Angle 1.1252909898757935\n"
     ]
    },
    {
     "name": "stderr",
     "output_type": "stream",
     "text": [
      " 40%|████      | 401/1000 [04:59<07:28,  1.33it/s]"
     ]
    },
    {
     "name": "stdout",
     "output_type": "stream",
     "text": [
      "Epoch 9 - Batch 400/1000 - Loss -0.26002582907676697 - Angle 0.9809826612472534\n"
     ]
    },
    {
     "name": "stderr",
     "output_type": "stream",
     "text": [
      " 50%|█████     | 501/1000 [06:13<06:17,  1.32it/s]"
     ]
    },
    {
     "name": "stdout",
     "output_type": "stream",
     "text": [
      "Epoch 9 - Batch 500/1000 - Loss -0.09660350531339645 - Angle 1.0600684881210327\n"
     ]
    },
    {
     "name": "stderr",
     "output_type": "stream",
     "text": [
      " 60%|██████    | 601/1000 [07:28<05:39,  1.18it/s]"
     ]
    },
    {
     "name": "stdout",
     "output_type": "stream",
     "text": [
      "Epoch 9 - Batch 600/1000 - Loss 0.06638943403959274 - Angle 1.1503678560256958\n"
     ]
    },
    {
     "name": "stderr",
     "output_type": "stream",
     "text": [
      " 70%|███████   | 701/1000 [08:43<03:42,  1.34it/s]"
     ]
    },
    {
     "name": "stdout",
     "output_type": "stream",
     "text": [
      "Epoch 9 - Batch 700/1000 - Loss -0.3322717845439911 - Angle 1.0282269716262817\n"
     ]
    },
    {
     "name": "stderr",
     "output_type": "stream",
     "text": [
      " 80%|████████  | 801/1000 [09:57<02:27,  1.35it/s]"
     ]
    },
    {
     "name": "stdout",
     "output_type": "stream",
     "text": [
      "Epoch 9 - Batch 800/1000 - Loss -0.21992526948451996 - Angle 1.0653996467590332\n"
     ]
    },
    {
     "name": "stderr",
     "output_type": "stream",
     "text": [
      " 90%|█████████ | 901/1000 [11:13<01:21,  1.22it/s]"
     ]
    },
    {
     "name": "stdout",
     "output_type": "stream",
     "text": [
      "Epoch 9 - Batch 900/1000 - Loss -0.12172065675258636 - Angle 1.1442543268203735\n"
     ]
    },
    {
     "name": "stderr",
     "output_type": "stream",
     "text": [
      "100%|██████████| 1000/1000 [12:28<00:00,  1.34it/s]\n",
      "  1%|          | 1/100 [00:00<01:23,  1.18it/s]"
     ]
    },
    {
     "name": "stdout",
     "output_type": "stream",
     "text": [
      "Epoch 9 - Batch 0/100 - Val loss -0.28019893169403076 - Val angle 0.9762254357337952\n"
     ]
    },
    {
     "name": "stderr",
     "output_type": "stream",
     "text": [
      "100%|██████████| 100/100 [01:10<00:00,  1.42it/s]\n"
     ]
    },
    {
     "name": "stdout",
     "output_type": "stream",
     "text": [
      "Epoch 009 - Loss -0.1606, Angle 1.0744521536231042 - Val_loss -0.1721, Val_angle 1.0742783546447754\n",
      "====== START EPOCH 10 ======\n",
      "Preparing batch 80 ...\n",
      "Loading meta ...\n",
      "Loading sensor ...\n",
      "Loading batch ...\n",
      "Complete.\n",
      "\n"
     ]
    },
    {
     "name": "stderr",
     "output_type": "stream",
     "text": [
      "  0%|          | 1/1000 [00:00<15:16,  1.09it/s]"
     ]
    },
    {
     "name": "stdout",
     "output_type": "stream",
     "text": [
      "Epoch 10 - Batch 0/1000 - Loss -0.1545419991016388 - Angle 1.0432490110397339\n"
     ]
    },
    {
     "name": "stderr",
     "output_type": "stream",
     "text": [
      " 10%|█         | 101/1000 [01:15<10:52,  1.38it/s]"
     ]
    },
    {
     "name": "stdout",
     "output_type": "stream",
     "text": [
      "Epoch 10 - Batch 100/1000 - Loss -0.11816384643316269 - Angle 1.1424633264541626\n"
     ]
    },
    {
     "name": "stderr",
     "output_type": "stream",
     "text": [
      " 20%|██        | 201/1000 [02:28<09:41,  1.37it/s]"
     ]
    },
    {
     "name": "stdout",
     "output_type": "stream",
     "text": [
      "Epoch 10 - Batch 200/1000 - Loss -0.29058292508125305 - Angle 1.012381911277771\n"
     ]
    },
    {
     "name": "stderr",
     "output_type": "stream",
     "text": [
      " 30%|███       | 301/1000 [03:43<08:42,  1.34it/s]"
     ]
    },
    {
     "name": "stdout",
     "output_type": "stream",
     "text": [
      "Epoch 10 - Batch 300/1000 - Loss -0.331764280796051 - Angle 1.075770378112793\n"
     ]
    },
    {
     "name": "stderr",
     "output_type": "stream",
     "text": [
      " 40%|████      | 401/1000 [04:57<07:10,  1.39it/s]"
     ]
    },
    {
     "name": "stdout",
     "output_type": "stream",
     "text": [
      "Epoch 10 - Batch 400/1000 - Loss -0.33872076869010925 - Angle 0.9814982414245605\n"
     ]
    },
    {
     "name": "stderr",
     "output_type": "stream",
     "text": [
      " 50%|█████     | 501/1000 [06:12<06:18,  1.32it/s]"
     ]
    },
    {
     "name": "stdout",
     "output_type": "stream",
     "text": [
      "Epoch 10 - Batch 500/1000 - Loss -0.17052166163921356 - Angle 1.1138828992843628\n"
     ]
    },
    {
     "name": "stderr",
     "output_type": "stream",
     "text": [
      " 60%|██████    | 601/1000 [07:28<04:55,  1.35it/s]"
     ]
    },
    {
     "name": "stdout",
     "output_type": "stream",
     "text": [
      "Epoch 10 - Batch 600/1000 - Loss -0.18002963066101074 - Angle 1.0376741886138916\n"
     ]
    },
    {
     "name": "stderr",
     "output_type": "stream",
     "text": [
      " 70%|███████   | 701/1000 [08:42<03:39,  1.36it/s]"
     ]
    },
    {
     "name": "stdout",
     "output_type": "stream",
     "text": [
      "Epoch 10 - Batch 700/1000 - Loss 0.14121344685554504 - Angle 1.1341156959533691\n"
     ]
    },
    {
     "name": "stderr",
     "output_type": "stream",
     "text": [
      " 80%|████████  | 801/1000 [09:57<02:51,  1.16it/s]"
     ]
    },
    {
     "name": "stdout",
     "output_type": "stream",
     "text": [
      "Epoch 10 - Batch 800/1000 - Loss 0.0503668338060379 - Angle 1.1934694051742554\n"
     ]
    },
    {
     "name": "stderr",
     "output_type": "stream",
     "text": [
      " 90%|█████████ | 901/1000 [11:11<01:10,  1.40it/s]"
     ]
    },
    {
     "name": "stdout",
     "output_type": "stream",
     "text": [
      "Epoch 10 - Batch 900/1000 - Loss -0.18041402101516724 - Angle 1.0937983989715576\n"
     ]
    },
    {
     "name": "stderr",
     "output_type": "stream",
     "text": [
      "100%|██████████| 1000/1000 [12:24<00:00,  1.34it/s]\n",
      "  1%|          | 1/100 [00:00<01:17,  1.28it/s]"
     ]
    },
    {
     "name": "stdout",
     "output_type": "stream",
     "text": [
      "Epoch 10 - Batch 0/100 - Val loss -0.3137318789958954 - Val angle 0.9710952639579773\n"
     ]
    },
    {
     "name": "stderr",
     "output_type": "stream",
     "text": [
      "100%|██████████| 100/100 [01:10<00:00,  1.42it/s]\n"
     ]
    },
    {
     "name": "stdout",
     "output_type": "stream",
     "text": [
      "Epoch 010 - Loss -0.1577, Angle 1.0727965012192726 - Val_loss -0.1740, Val_angle 1.073908467888832\n",
      "====== START EPOCH 11 ======\n",
      "Preparing batch 81 ...\n",
      "Loading meta ...\n",
      "Loading sensor ...\n",
      "Loading batch ...\n",
      "Complete.\n",
      "\n"
     ]
    },
    {
     "name": "stderr",
     "output_type": "stream",
     "text": [
      "  0%|          | 1/1000 [00:00<15:45,  1.06it/s]"
     ]
    },
    {
     "name": "stdout",
     "output_type": "stream",
     "text": [
      "Epoch 11 - Batch 0/1000 - Loss -0.15329734981060028 - Angle 0.999701738357544\n"
     ]
    },
    {
     "name": "stderr",
     "output_type": "stream",
     "text": [
      " 10%|█         | 101/1000 [01:15<10:46,  1.39it/s]"
     ]
    },
    {
     "name": "stdout",
     "output_type": "stream",
     "text": [
      "Epoch 11 - Batch 100/1000 - Loss -0.03502104803919792 - Angle 1.139415979385376\n"
     ]
    },
    {
     "name": "stderr",
     "output_type": "stream",
     "text": [
      " 20%|██        | 201/1000 [02:32<10:38,  1.25it/s]"
     ]
    },
    {
     "name": "stdout",
     "output_type": "stream",
     "text": [
      "Epoch 11 - Batch 200/1000 - Loss -0.06923680007457733 - Angle 1.15571928024292\n"
     ]
    },
    {
     "name": "stderr",
     "output_type": "stream",
     "text": [
      " 30%|███       | 301/1000 [03:46<08:32,  1.36it/s]"
     ]
    },
    {
     "name": "stdout",
     "output_type": "stream",
     "text": [
      "Epoch 11 - Batch 300/1000 - Loss -0.018726658076047897 - Angle 1.1078165769577026\n"
     ]
    },
    {
     "name": "stderr",
     "output_type": "stream",
     "text": [
      " 40%|████      | 401/1000 [05:01<07:26,  1.34it/s]"
     ]
    },
    {
     "name": "stdout",
     "output_type": "stream",
     "text": [
      "Epoch 11 - Batch 400/1000 - Loss -0.08010946214199066 - Angle 1.1710636615753174\n"
     ]
    },
    {
     "name": "stderr",
     "output_type": "stream",
     "text": [
      " 50%|█████     | 501/1000 [06:17<06:56,  1.20it/s]"
     ]
    },
    {
     "name": "stdout",
     "output_type": "stream",
     "text": [
      "Epoch 11 - Batch 500/1000 - Loss -0.232754185795784 - Angle 1.0368026494979858\n"
     ]
    },
    {
     "name": "stderr",
     "output_type": "stream",
     "text": [
      " 60%|██████    | 601/1000 [07:32<04:50,  1.38it/s]"
     ]
    },
    {
     "name": "stdout",
     "output_type": "stream",
     "text": [
      "Epoch 11 - Batch 600/1000 - Loss -0.23132246732711792 - Angle 1.029094934463501\n"
     ]
    },
    {
     "name": "stderr",
     "output_type": "stream",
     "text": [
      " 70%|███████   | 701/1000 [08:46<03:34,  1.39it/s]"
     ]
    },
    {
     "name": "stdout",
     "output_type": "stream",
     "text": [
      "Epoch 11 - Batch 700/1000 - Loss 0.07527078688144684 - Angle 1.1321232318878174\n"
     ]
    },
    {
     "name": "stderr",
     "output_type": "stream",
     "text": [
      " 80%|████████  | 801/1000 [10:02<02:34,  1.29it/s]"
     ]
    },
    {
     "name": "stdout",
     "output_type": "stream",
     "text": [
      "Epoch 11 - Batch 800/1000 - Loss -0.0705125629901886 - Angle 1.1209293603897095\n"
     ]
    },
    {
     "name": "stderr",
     "output_type": "stream",
     "text": [
      " 90%|█████████ | 901/1000 [11:17<01:14,  1.34it/s]"
     ]
    },
    {
     "name": "stdout",
     "output_type": "stream",
     "text": [
      "Epoch 11 - Batch 900/1000 - Loss -0.2176467478275299 - Angle 1.1015267372131348\n"
     ]
    },
    {
     "name": "stderr",
     "output_type": "stream",
     "text": [
      "100%|██████████| 1000/1000 [12:31<00:00,  1.33it/s]\n",
      "  1%|          | 1/100 [00:00<01:21,  1.22it/s]"
     ]
    },
    {
     "name": "stdout",
     "output_type": "stream",
     "text": [
      "Epoch 11 - Batch 0/100 - Val loss -0.2999294400215149 - Val angle 0.9751663208007812\n"
     ]
    },
    {
     "name": "stderr",
     "output_type": "stream",
     "text": [
      "100%|██████████| 100/100 [01:11<00:00,  1.40it/s]\n"
     ]
    },
    {
     "name": "stdout",
     "output_type": "stream",
     "text": [
      "Epoch 00011: reducing learning rate of group 0 to 1.0000e-08.\n",
      "Epoch 011 - Loss -0.1563, Angle 1.0727381873726844 - Val_loss -0.1735, Val_angle 1.074284810423851\n",
      "====== START EPOCH 12 ======\n",
      "Preparing batch 82 ...\n",
      "Loading meta ...\n",
      "Loading sensor ...\n",
      "Loading batch ...\n",
      "Complete.\n",
      "\n"
     ]
    },
    {
     "name": "stderr",
     "output_type": "stream",
     "text": [
      "  0%|          | 1/1000 [00:00<12:35,  1.32it/s]"
     ]
    },
    {
     "name": "stdout",
     "output_type": "stream",
     "text": [
      "Epoch 12 - Batch 0/1000 - Loss 0.14325641095638275 - Angle 1.1378682851791382\n"
     ]
    },
    {
     "name": "stderr",
     "output_type": "stream",
     "text": [
      " 10%|█         | 101/1000 [01:15<11:41,  1.28it/s]"
     ]
    },
    {
     "name": "stdout",
     "output_type": "stream",
     "text": [
      "Epoch 12 - Batch 100/1000 - Loss -0.31478002667427063 - Angle 1.0625282526016235\n"
     ]
    },
    {
     "name": "stderr",
     "output_type": "stream",
     "text": [
      " 20%|██        | 201/1000 [02:28<09:31,  1.40it/s]"
     ]
    },
    {
     "name": "stdout",
     "output_type": "stream",
     "text": [
      "Epoch 12 - Batch 200/1000 - Loss -0.35345855355262756 - Angle 0.9804968237876892\n"
     ]
    },
    {
     "name": "stderr",
     "output_type": "stream",
     "text": [
      " 30%|███       | 301/1000 [03:42<08:31,  1.37it/s]"
     ]
    },
    {
     "name": "stdout",
     "output_type": "stream",
     "text": [
      "Epoch 12 - Batch 300/1000 - Loss -0.20651310682296753 - Angle 1.1018834114074707\n"
     ]
    },
    {
     "name": "stderr",
     "output_type": "stream",
     "text": [
      " 40%|████      | 401/1000 [04:56<07:16,  1.37it/s]"
     ]
    },
    {
     "name": "stdout",
     "output_type": "stream",
     "text": [
      "Epoch 12 - Batch 400/1000 - Loss 0.377871572971344 - Angle 1.1346418857574463\n"
     ]
    },
    {
     "name": "stderr",
     "output_type": "stream",
     "text": [
      " 50%|█████     | 501/1000 [06:10<06:19,  1.32it/s]"
     ]
    },
    {
     "name": "stdout",
     "output_type": "stream",
     "text": [
      "Epoch 12 - Batch 500/1000 - Loss -0.28187334537506104 - Angle 0.9201667904853821\n"
     ]
    },
    {
     "name": "stderr",
     "output_type": "stream",
     "text": [
      " 60%|██████    | 601/1000 [07:23<04:59,  1.33it/s]"
     ]
    },
    {
     "name": "stdout",
     "output_type": "stream",
     "text": [
      "Epoch 12 - Batch 600/1000 - Loss -0.18845653533935547 - Angle 1.1115922927856445\n"
     ]
    },
    {
     "name": "stderr",
     "output_type": "stream",
     "text": [
      " 70%|███████   | 701/1000 [08:37<03:34,  1.39it/s]"
     ]
    },
    {
     "name": "stdout",
     "output_type": "stream",
     "text": [
      "Epoch 12 - Batch 700/1000 - Loss -0.2297934740781784 - Angle 1.0831503868103027\n"
     ]
    },
    {
     "name": "stderr",
     "output_type": "stream",
     "text": [
      " 80%|████████  | 801/1000 [09:52<02:28,  1.34it/s]"
     ]
    },
    {
     "name": "stdout",
     "output_type": "stream",
     "text": [
      "Epoch 12 - Batch 800/1000 - Loss 0.04162260890007019 - Angle 1.1347498893737793\n"
     ]
    },
    {
     "name": "stderr",
     "output_type": "stream",
     "text": [
      " 90%|█████████ | 901/1000 [11:06<01:14,  1.33it/s]"
     ]
    },
    {
     "name": "stdout",
     "output_type": "stream",
     "text": [
      "Epoch 12 - Batch 900/1000 - Loss -0.2793440520763397 - Angle 1.0447564125061035\n"
     ]
    },
    {
     "name": "stderr",
     "output_type": "stream",
     "text": [
      "100%|██████████| 1000/1000 [12:20<00:00,  1.35it/s]\n",
      "  1%|          | 1/100 [00:00<01:15,  1.32it/s]"
     ]
    },
    {
     "name": "stdout",
     "output_type": "stream",
     "text": [
      "Epoch 12 - Batch 0/100 - Val loss -0.31396475434303284 - Val angle 0.9692752361297607\n"
     ]
    },
    {
     "name": "stderr",
     "output_type": "stream",
     "text": [
      "100%|██████████| 100/100 [01:09<00:00,  1.43it/s]\n"
     ]
    },
    {
     "name": "stdout",
     "output_type": "stream",
     "text": [
      "Epoch 012 - Loss -0.1608, Angle 1.071110277235508 - Val_loss -0.1738, Val_angle 1.073753924369812\n",
      "====== START EPOCH 13 ======\n",
      "Preparing batch 83 ...\n",
      "Loading meta ...\n",
      "Loading sensor ...\n",
      "Loading batch ...\n",
      "Complete.\n",
      "\n"
     ]
    },
    {
     "name": "stderr",
     "output_type": "stream",
     "text": [
      "  0%|          | 1/1000 [00:00<12:00,  1.39it/s]"
     ]
    },
    {
     "name": "stdout",
     "output_type": "stream",
     "text": [
      "Epoch 13 - Batch 0/1000 - Loss -0.25928831100463867 - Angle 1.1300426721572876\n"
     ]
    },
    {
     "name": "stderr",
     "output_type": "stream",
     "text": [
      " 10%|█         | 101/1000 [01:15<11:53,  1.26it/s]"
     ]
    },
    {
     "name": "stdout",
     "output_type": "stream",
     "text": [
      "Epoch 13 - Batch 100/1000 - Loss -0.3147732615470886 - Angle 1.036515235900879\n"
     ]
    },
    {
     "name": "stderr",
     "output_type": "stream",
     "text": [
      " 20%|██        | 201/1000 [02:28<09:24,  1.42it/s]"
     ]
    },
    {
     "name": "stdout",
     "output_type": "stream",
     "text": [
      "Epoch 13 - Batch 200/1000 - Loss -0.2718695104122162 - Angle 0.9792180061340332\n"
     ]
    },
    {
     "name": "stderr",
     "output_type": "stream",
     "text": [
      " 30%|███       | 301/1000 [03:42<08:32,  1.37it/s]"
     ]
    },
    {
     "name": "stdout",
     "output_type": "stream",
     "text": [
      "Epoch 13 - Batch 300/1000 - Loss -0.15439437329769135 - Angle 1.0641660690307617\n"
     ]
    },
    {
     "name": "stderr",
     "output_type": "stream",
     "text": [
      " 40%|████      | 401/1000 [04:57<07:42,  1.29it/s]"
     ]
    },
    {
     "name": "stdout",
     "output_type": "stream",
     "text": [
      "Epoch 13 - Batch 400/1000 - Loss -0.06176554039120674 - Angle 1.1126513481140137\n"
     ]
    },
    {
     "name": "stderr",
     "output_type": "stream",
     "text": [
      " 50%|█████     | 501/1000 [06:11<06:21,  1.31it/s]"
     ]
    },
    {
     "name": "stdout",
     "output_type": "stream",
     "text": [
      "Epoch 13 - Batch 500/1000 - Loss -0.044255580753088 - Angle 1.1282333135604858\n"
     ]
    },
    {
     "name": "stderr",
     "output_type": "stream",
     "text": [
      " 60%|██████    | 601/1000 [07:25<04:52,  1.36it/s]"
     ]
    },
    {
     "name": "stdout",
     "output_type": "stream",
     "text": [
      "Epoch 13 - Batch 600/1000 - Loss -0.11708199977874756 - Angle 1.0867666006088257\n"
     ]
    },
    {
     "name": "stderr",
     "output_type": "stream",
     "text": [
      " 70%|███████   | 701/1000 [08:39<03:41,  1.35it/s]"
     ]
    },
    {
     "name": "stdout",
     "output_type": "stream",
     "text": [
      "Epoch 13 - Batch 700/1000 - Loss 0.046853579580783844 - Angle 1.144946575164795\n"
     ]
    },
    {
     "name": "stderr",
     "output_type": "stream",
     "text": [
      " 80%|████████  | 801/1000 [09:53<02:23,  1.39it/s]"
     ]
    },
    {
     "name": "stdout",
     "output_type": "stream",
     "text": [
      "Epoch 13 - Batch 800/1000 - Loss -0.09563391655683517 - Angle 1.085269570350647\n"
     ]
    },
    {
     "name": "stderr",
     "output_type": "stream",
     "text": [
      " 90%|█████████ | 901/1000 [11:07<01:12,  1.37it/s]"
     ]
    },
    {
     "name": "stdout",
     "output_type": "stream",
     "text": [
      "Epoch 13 - Batch 900/1000 - Loss -0.2506149113178253 - Angle 1.0024645328521729\n"
     ]
    },
    {
     "name": "stderr",
     "output_type": "stream",
     "text": [
      "100%|██████████| 1000/1000 [12:20<00:00,  1.35it/s]\n",
      "  1%|          | 1/100 [00:00<01:14,  1.32it/s]"
     ]
    },
    {
     "name": "stdout",
     "output_type": "stream",
     "text": [
      "Epoch 13 - Batch 0/100 - Val loss -0.2978515326976776 - Val angle 0.9772871136665344\n"
     ]
    },
    {
     "name": "stderr",
     "output_type": "stream",
     "text": [
      "100%|██████████| 100/100 [01:10<00:00,  1.42it/s]\n"
     ]
    },
    {
     "name": "stdout",
     "output_type": "stream",
     "text": [
      "Epoch 013 - Loss -0.1600, Angle 1.072702508866787 - Val_loss -0.1750, Val_angle 1.0736791735887528\n",
      "====== START EPOCH 14 ======\n",
      "Preparing batch 84 ...\n",
      "Loading meta ...\n",
      "Loading sensor ...\n",
      "Loading batch ...\n",
      "Complete.\n",
      "\n"
     ]
    },
    {
     "name": "stderr",
     "output_type": "stream",
     "text": [
      "  0%|          | 1/1000 [00:00<12:14,  1.36it/s]"
     ]
    },
    {
     "name": "stdout",
     "output_type": "stream",
     "text": [
      "Epoch 14 - Batch 0/1000 - Loss -0.0765862986445427 - Angle 1.1422398090362549\n"
     ]
    },
    {
     "name": "stderr",
     "output_type": "stream",
     "text": [
      " 10%|█         | 101/1000 [01:15<11:46,  1.27it/s]"
     ]
    },
    {
     "name": "stdout",
     "output_type": "stream",
     "text": [
      "Epoch 14 - Batch 100/1000 - Loss -0.16598765552043915 - Angle 1.0836137533187866\n"
     ]
    },
    {
     "name": "stderr",
     "output_type": "stream",
     "text": [
      " 20%|██        | 201/1000 [02:28<09:41,  1.38it/s]"
     ]
    },
    {
     "name": "stdout",
     "output_type": "stream",
     "text": [
      "Epoch 14 - Batch 200/1000 - Loss 0.1467447280883789 - Angle 1.2601513862609863\n"
     ]
    },
    {
     "name": "stderr",
     "output_type": "stream",
     "text": [
      " 30%|███       | 301/1000 [03:42<08:03,  1.45it/s]"
     ]
    },
    {
     "name": "stdout",
     "output_type": "stream",
     "text": [
      "Epoch 14 - Batch 300/1000 - Loss -0.3662135601043701 - Angle 1.0437012910842896\n"
     ]
    },
    {
     "name": "stderr",
     "output_type": "stream",
     "text": [
      " 40%|████      | 401/1000 [04:56<07:37,  1.31it/s]"
     ]
    },
    {
     "name": "stdout",
     "output_type": "stream",
     "text": [
      "Epoch 14 - Batch 400/1000 - Loss -0.5556185841560364 - Angle 0.9449501633644104\n"
     ]
    },
    {
     "name": "stderr",
     "output_type": "stream",
     "text": [
      " 50%|█████     | 501/1000 [06:10<06:26,  1.29it/s]"
     ]
    },
    {
     "name": "stdout",
     "output_type": "stream",
     "text": [
      "Epoch 14 - Batch 500/1000 - Loss -0.30385586619377136 - Angle 1.0120660066604614\n"
     ]
    },
    {
     "name": "stderr",
     "output_type": "stream",
     "text": [
      " 60%|██████    | 601/1000 [07:25<05:08,  1.29it/s]"
     ]
    },
    {
     "name": "stdout",
     "output_type": "stream",
     "text": [
      "Epoch 14 - Batch 600/1000 - Loss -0.3952518105506897 - Angle 0.9685783386230469\n"
     ]
    },
    {
     "name": "stderr",
     "output_type": "stream",
     "text": [
      " 70%|███████   | 701/1000 [08:39<03:48,  1.31it/s]"
     ]
    },
    {
     "name": "stdout",
     "output_type": "stream",
     "text": [
      "Epoch 14 - Batch 700/1000 - Loss -0.1208590492606163 - Angle 1.0962470769882202\n"
     ]
    },
    {
     "name": "stderr",
     "output_type": "stream",
     "text": [
      " 80%|████████  | 801/1000 [09:53<02:18,  1.44it/s]"
     ]
    },
    {
     "name": "stdout",
     "output_type": "stream",
     "text": [
      "Epoch 14 - Batch 800/1000 - Loss -0.10077998042106628 - Angle 1.0393617153167725\n"
     ]
    },
    {
     "name": "stderr",
     "output_type": "stream",
     "text": [
      " 90%|█████████ | 901/1000 [11:06<01:12,  1.36it/s]"
     ]
    },
    {
     "name": "stdout",
     "output_type": "stream",
     "text": [
      "Epoch 14 - Batch 900/1000 - Loss -0.11095650494098663 - Angle 1.0577257871627808\n"
     ]
    },
    {
     "name": "stderr",
     "output_type": "stream",
     "text": [
      "100%|██████████| 1000/1000 [12:20<00:00,  1.35it/s]\n",
      "  1%|          | 1/100 [00:00<01:17,  1.28it/s]"
     ]
    },
    {
     "name": "stdout",
     "output_type": "stream",
     "text": [
      "Epoch 14 - Batch 0/100 - Val loss -0.30324164032936096 - Val angle 0.9739863872528076\n"
     ]
    },
    {
     "name": "stderr",
     "output_type": "stream",
     "text": [
      "100%|██████████| 100/100 [01:10<00:00,  1.43it/s]\n"
     ]
    },
    {
     "name": "stdout",
     "output_type": "stream",
     "text": [
      "Epoch 014 - Loss -0.1595, Angle 1.0703322615027429 - Val_loss -0.1746, Val_angle 1.0736190658807754\n",
      "====== START EPOCH 15 ======\n",
      "Preparing batch 85 ...\n",
      "Loading meta ...\n",
      "Loading sensor ...\n",
      "Loading batch ...\n",
      "Complete.\n",
      "\n"
     ]
    },
    {
     "name": "stderr",
     "output_type": "stream",
     "text": [
      "  0%|          | 1/1000 [00:00<13:34,  1.23it/s]"
     ]
    },
    {
     "name": "stdout",
     "output_type": "stream",
     "text": [
      "Epoch 15 - Batch 0/1000 - Loss -0.17667677998542786 - Angle 1.044213056564331\n"
     ]
    },
    {
     "name": "stderr",
     "output_type": "stream",
     "text": [
      " 10%|█         | 101/1000 [01:15<13:10,  1.14it/s]"
     ]
    },
    {
     "name": "stdout",
     "output_type": "stream",
     "text": [
      "Epoch 15 - Batch 100/1000 - Loss -0.09082383662462234 - Angle 1.1744424104690552\n"
     ]
    },
    {
     "name": "stderr",
     "output_type": "stream",
     "text": [
      " 20%|██        | 201/1000 [02:28<09:21,  1.42it/s]"
     ]
    },
    {
     "name": "stdout",
     "output_type": "stream",
     "text": [
      "Epoch 15 - Batch 200/1000 - Loss -0.1944637894630432 - Angle 1.0213207006454468\n"
     ]
    },
    {
     "name": "stderr",
     "output_type": "stream",
     "text": [
      " 30%|███       | 301/1000 [03:43<08:33,  1.36it/s]"
     ]
    },
    {
     "name": "stdout",
     "output_type": "stream",
     "text": [
      "Epoch 15 - Batch 300/1000 - Loss -0.20419539511203766 - Angle 1.0352952480316162\n"
     ]
    },
    {
     "name": "stderr",
     "output_type": "stream",
     "text": [
      " 40%|████      | 401/1000 [04:58<07:57,  1.25it/s]"
     ]
    },
    {
     "name": "stdout",
     "output_type": "stream",
     "text": [
      "Epoch 15 - Batch 400/1000 - Loss -0.16743111610412598 - Angle 1.0621861219406128\n"
     ]
    },
    {
     "name": "stderr",
     "output_type": "stream",
     "text": [
      " 50%|█████     | 501/1000 [06:12<06:26,  1.29it/s]"
     ]
    },
    {
     "name": "stdout",
     "output_type": "stream",
     "text": [
      "Epoch 15 - Batch 500/1000 - Loss -0.21820349991321564 - Angle 1.1001304388046265\n"
     ]
    },
    {
     "name": "stderr",
     "output_type": "stream",
     "text": [
      " 60%|██████    | 601/1000 [07:26<04:51,  1.37it/s]"
     ]
    },
    {
     "name": "stdout",
     "output_type": "stream",
     "text": [
      "Epoch 15 - Batch 600/1000 - Loss -0.15798431634902954 - Angle 1.0977487564086914\n"
     ]
    },
    {
     "name": "stderr",
     "output_type": "stream",
     "text": [
      " 70%|███████   | 701/1000 [08:40<04:01,  1.24it/s]"
     ]
    },
    {
     "name": "stdout",
     "output_type": "stream",
     "text": [
      "Epoch 15 - Batch 700/1000 - Loss -0.13936077058315277 - Angle 1.068066120147705\n"
     ]
    },
    {
     "name": "stderr",
     "output_type": "stream",
     "text": [
      " 80%|████████  | 801/1000 [09:54<02:24,  1.37it/s]"
     ]
    },
    {
     "name": "stdout",
     "output_type": "stream",
     "text": [
      "Epoch 15 - Batch 800/1000 - Loss -0.23913417756557465 - Angle 0.9543583393096924\n"
     ]
    },
    {
     "name": "stderr",
     "output_type": "stream",
     "text": [
      " 90%|█████████ | 901/1000 [11:08<01:13,  1.34it/s]"
     ]
    },
    {
     "name": "stdout",
     "output_type": "stream",
     "text": [
      "Epoch 15 - Batch 900/1000 - Loss 0.12056251615285873 - Angle 1.1024682521820068\n"
     ]
    },
    {
     "name": "stderr",
     "output_type": "stream",
     "text": [
      "100%|██████████| 1000/1000 [12:22<00:00,  1.35it/s]\n",
      "  1%|          | 1/100 [00:00<01:36,  1.03it/s]"
     ]
    },
    {
     "name": "stdout",
     "output_type": "stream",
     "text": [
      "Epoch 15 - Batch 0/100 - Val loss -0.299155056476593 - Val angle 0.9771371483802795\n"
     ]
    },
    {
     "name": "stderr",
     "output_type": "stream",
     "text": [
      "100%|██████████| 100/100 [01:10<00:00,  1.41it/s]\n"
     ]
    },
    {
     "name": "stdout",
     "output_type": "stream",
     "text": [
      "Epoch 015 - Loss -0.1586, Angle 1.0737765522003173 - Val_loss -0.1735, Val_angle 1.074096127152443\n",
      "====== START EPOCH 16 ======\n",
      "Preparing batch 86 ...\n",
      "Loading meta ...\n",
      "Loading sensor ...\n",
      "Loading batch ...\n",
      "Complete.\n",
      "\n"
     ]
    },
    {
     "name": "stderr",
     "output_type": "stream",
     "text": [
      "  0%|          | 1/1000 [00:00<12:01,  1.38it/s]"
     ]
    },
    {
     "name": "stdout",
     "output_type": "stream",
     "text": [
      "Epoch 16 - Batch 0/1000 - Loss -0.18859192728996277 - Angle 1.105505347251892\n"
     ]
    },
    {
     "name": "stderr",
     "output_type": "stream",
     "text": [
      " 10%|█         | 101/1000 [01:14<10:54,  1.37it/s]"
     ]
    },
    {
     "name": "stdout",
     "output_type": "stream",
     "text": [
      "Epoch 16 - Batch 100/1000 - Loss -0.1821298599243164 - Angle 1.0142902135849\n"
     ]
    },
    {
     "name": "stderr",
     "output_type": "stream",
     "text": [
      " 20%|██        | 201/1000 [02:28<09:44,  1.37it/s]"
     ]
    },
    {
     "name": "stdout",
     "output_type": "stream",
     "text": [
      "Epoch 16 - Batch 200/1000 - Loss -0.1417233794927597 - Angle 1.0475821495056152\n"
     ]
    },
    {
     "name": "stderr",
     "output_type": "stream",
     "text": [
      " 30%|███       | 301/1000 [03:42<08:31,  1.37it/s]"
     ]
    },
    {
     "name": "stdout",
     "output_type": "stream",
     "text": [
      "Epoch 16 - Batch 300/1000 - Loss -0.005423123482614756 - Angle 1.1239182949066162\n"
     ]
    },
    {
     "name": "stderr",
     "output_type": "stream",
     "text": [
      " 40%|████      | 401/1000 [04:56<07:34,  1.32it/s]"
     ]
    },
    {
     "name": "stdout",
     "output_type": "stream",
     "text": [
      "Epoch 16 - Batch 400/1000 - Loss -0.012243195436894894 - Angle 1.1984363794326782\n"
     ]
    },
    {
     "name": "stderr",
     "output_type": "stream",
     "text": [
      " 50%|█████     | 501/1000 [06:10<06:15,  1.33it/s]"
     ]
    },
    {
     "name": "stdout",
     "output_type": "stream",
     "text": [
      "Epoch 16 - Batch 500/1000 - Loss -0.45141422748565674 - Angle 0.9793485999107361\n"
     ]
    },
    {
     "name": "stderr",
     "output_type": "stream",
     "text": [
      " 60%|██████    | 601/1000 [07:24<04:42,  1.41it/s]"
     ]
    },
    {
     "name": "stdout",
     "output_type": "stream",
     "text": [
      "Epoch 16 - Batch 600/1000 - Loss -0.26694729924201965 - Angle 1.0733518600463867\n"
     ]
    },
    {
     "name": "stderr",
     "output_type": "stream",
     "text": [
      " 70%|███████   | 701/1000 [08:38<03:36,  1.38it/s]"
     ]
    },
    {
     "name": "stdout",
     "output_type": "stream",
     "text": [
      "Epoch 16 - Batch 700/1000 - Loss -0.14304304122924805 - Angle 1.1430072784423828\n"
     ]
    },
    {
     "name": "stderr",
     "output_type": "stream",
     "text": [
      " 80%|████████  | 801/1000 [09:53<02:27,  1.35it/s]"
     ]
    },
    {
     "name": "stdout",
     "output_type": "stream",
     "text": [
      "Epoch 16 - Batch 800/1000 - Loss -0.23404298722743988 - Angle 1.1183044910430908\n"
     ]
    },
    {
     "name": "stderr",
     "output_type": "stream",
     "text": [
      " 90%|█████████ | 901/1000 [11:06<01:11,  1.39it/s]"
     ]
    },
    {
     "name": "stdout",
     "output_type": "stream",
     "text": [
      "Epoch 16 - Batch 900/1000 - Loss -0.20207612216472626 - Angle 1.1128134727478027\n"
     ]
    },
    {
     "name": "stderr",
     "output_type": "stream",
     "text": [
      "100%|██████████| 1000/1000 [12:20<00:00,  1.35it/s]\n",
      "  1%|          | 1/100 [00:00<01:15,  1.32it/s]"
     ]
    },
    {
     "name": "stdout",
     "output_type": "stream",
     "text": [
      "Epoch 16 - Batch 0/100 - Val loss -0.3233821392059326 - Val angle 0.9688524603843689\n"
     ]
    },
    {
     "name": "stderr",
     "output_type": "stream",
     "text": [
      "100%|██████████| 100/100 [01:10<00:00,  1.42it/s]\n"
     ]
    },
    {
     "name": "stdout",
     "output_type": "stream",
     "text": [
      "Epoch 016 - Loss -0.1628, Angle 1.074284320473671 - Val_loss -0.1747, Val_angle 1.0733536887168884\n",
      "====== START EPOCH 17 ======\n",
      "Preparing batch 87 ...\n",
      "Loading meta ...\n",
      "Loading sensor ...\n",
      "Loading batch ...\n",
      "Complete.\n",
      "\n"
     ]
    },
    {
     "name": "stderr",
     "output_type": "stream",
     "text": [
      "  0%|          | 1/1000 [00:00<12:42,  1.31it/s]"
     ]
    },
    {
     "name": "stdout",
     "output_type": "stream",
     "text": [
      "Epoch 17 - Batch 0/1000 - Loss -0.04414904862642288 - Angle 1.0834776163101196\n"
     ]
    },
    {
     "name": "stderr",
     "output_type": "stream",
     "text": [
      " 10%|█         | 101/1000 [01:14<10:53,  1.38it/s]"
     ]
    },
    {
     "name": "stdout",
     "output_type": "stream",
     "text": [
      "Epoch 17 - Batch 100/1000 - Loss -0.16445991396903992 - Angle 1.1613696813583374\n"
     ]
    },
    {
     "name": "stderr",
     "output_type": "stream",
     "text": [
      " 20%|██        | 201/1000 [02:29<10:29,  1.27it/s]"
     ]
    },
    {
     "name": "stdout",
     "output_type": "stream",
     "text": [
      "Epoch 17 - Batch 200/1000 - Loss 0.027813663706183434 - Angle 1.1655114889144897\n"
     ]
    },
    {
     "name": "stderr",
     "output_type": "stream",
     "text": [
      " 30%|███       | 301/1000 [03:43<08:41,  1.34it/s]"
     ]
    },
    {
     "name": "stdout",
     "output_type": "stream",
     "text": [
      "Epoch 17 - Batch 300/1000 - Loss -0.062060993164777756 - Angle 1.1393022537231445\n"
     ]
    },
    {
     "name": "stderr",
     "output_type": "stream",
     "text": [
      " 40%|████      | 401/1000 [04:57<07:14,  1.38it/s]"
     ]
    },
    {
     "name": "stdout",
     "output_type": "stream",
     "text": [
      "Epoch 17 - Batch 400/1000 - Loss -0.5356799960136414 - Angle 0.9956068396568298\n"
     ]
    },
    {
     "name": "stderr",
     "output_type": "stream",
     "text": [
      " 50%|█████     | 501/1000 [06:11<06:42,  1.24it/s]"
     ]
    },
    {
     "name": "stdout",
     "output_type": "stream",
     "text": [
      "Epoch 17 - Batch 500/1000 - Loss -0.32416319847106934 - Angle 0.9982133507728577\n"
     ]
    },
    {
     "name": "stderr",
     "output_type": "stream",
     "text": [
      " 60%|██████    | 601/1000 [07:24<04:51,  1.37it/s]"
     ]
    },
    {
     "name": "stdout",
     "output_type": "stream",
     "text": [
      "Epoch 17 - Batch 600/1000 - Loss -0.26371049880981445 - Angle 1.0123296976089478\n"
     ]
    },
    {
     "name": "stderr",
     "output_type": "stream",
     "text": [
      " 70%|███████   | 701/1000 [08:37<03:33,  1.40it/s]"
     ]
    },
    {
     "name": "stdout",
     "output_type": "stream",
     "text": [
      "Epoch 17 - Batch 700/1000 - Loss -0.10664365440607071 - Angle 1.0995055437088013\n"
     ]
    },
    {
     "name": "stderr",
     "output_type": "stream",
     "text": [
      " 80%|████████  | 801/1000 [09:51<02:21,  1.40it/s]"
     ]
    },
    {
     "name": "stdout",
     "output_type": "stream",
     "text": [
      "Epoch 17 - Batch 800/1000 - Loss -0.3383129835128784 - Angle 1.001935601234436\n"
     ]
    },
    {
     "name": "stderr",
     "output_type": "stream",
     "text": [
      " 90%|█████████ | 901/1000 [11:06<01:17,  1.28it/s]"
     ]
    },
    {
     "name": "stdout",
     "output_type": "stream",
     "text": [
      "Epoch 17 - Batch 900/1000 - Loss -0.35431936383247375 - Angle 0.9551958441734314\n"
     ]
    },
    {
     "name": "stderr",
     "output_type": "stream",
     "text": [
      "100%|██████████| 1000/1000 [12:19<00:00,  1.35it/s]\n",
      "  1%|          | 1/100 [00:00<01:18,  1.25it/s]"
     ]
    },
    {
     "name": "stdout",
     "output_type": "stream",
     "text": [
      "Epoch 17 - Batch 0/100 - Val loss -0.31313133239746094 - Val angle 0.9693896770477295\n"
     ]
    },
    {
     "name": "stderr",
     "output_type": "stream",
     "text": [
      "100%|██████████| 100/100 [01:10<00:00,  1.41it/s]\n"
     ]
    },
    {
     "name": "stdout",
     "output_type": "stream",
     "text": [
      "Epoch 017 - Loss -0.1612, Angle 1.0706382813453674 - Val_loss -0.1740, Val_angle 1.074090563058853\n",
      "====== START EPOCH 18 ======\n",
      "Preparing batch 88 ...\n",
      "Loading meta ...\n",
      "Loading sensor ...\n",
      "Loading batch ...\n",
      "Complete.\n",
      "\n"
     ]
    },
    {
     "name": "stderr",
     "output_type": "stream",
     "text": [
      "  0%|          | 1/1000 [00:01<22:20,  1.34s/it]"
     ]
    },
    {
     "name": "stdout",
     "output_type": "stream",
     "text": [
      "Epoch 18 - Batch 0/1000 - Loss -0.4611559808254242 - Angle 1.0346060991287231\n"
     ]
    },
    {
     "name": "stderr",
     "output_type": "stream",
     "text": [
      " 10%|█         | 101/1000 [01:15<10:49,  1.38it/s]"
     ]
    },
    {
     "name": "stdout",
     "output_type": "stream",
     "text": [
      "Epoch 18 - Batch 100/1000 - Loss -0.08572500199079514 - Angle 1.1401187181472778\n"
     ]
    },
    {
     "name": "stderr",
     "output_type": "stream",
     "text": [
      " 20%|██        | 201/1000 [02:29<09:52,  1.35it/s]"
     ]
    },
    {
     "name": "stdout",
     "output_type": "stream",
     "text": [
      "Epoch 18 - Batch 200/1000 - Loss 0.053380753844976425 - Angle 1.1141072511672974\n"
     ]
    },
    {
     "name": "stderr",
     "output_type": "stream",
     "text": [
      " 30%|███       | 301/1000 [03:44<08:18,  1.40it/s]"
     ]
    },
    {
     "name": "stdout",
     "output_type": "stream",
     "text": [
      "Epoch 18 - Batch 300/1000 - Loss -0.1733645349740982 - Angle 1.0397343635559082\n"
     ]
    },
    {
     "name": "stderr",
     "output_type": "stream",
     "text": [
      " 40%|████      | 401/1000 [04:58<07:25,  1.35it/s]"
     ]
    },
    {
     "name": "stdout",
     "output_type": "stream",
     "text": [
      "Epoch 18 - Batch 400/1000 - Loss -0.626977801322937 - Angle 0.9108036756515503\n"
     ]
    },
    {
     "name": "stderr",
     "output_type": "stream",
     "text": [
      " 50%|█████     | 501/1000 [06:12<06:17,  1.32it/s]"
     ]
    },
    {
     "name": "stdout",
     "output_type": "stream",
     "text": [
      "Epoch 18 - Batch 500/1000 - Loss -0.01678512990474701 - Angle 1.1743355989456177\n"
     ]
    },
    {
     "name": "stderr",
     "output_type": "stream",
     "text": [
      " 60%|██████    | 601/1000 [07:26<04:40,  1.42it/s]"
     ]
    },
    {
     "name": "stdout",
     "output_type": "stream",
     "text": [
      "Epoch 18 - Batch 600/1000 - Loss -0.07332375645637512 - Angle 1.1344401836395264\n"
     ]
    },
    {
     "name": "stderr",
     "output_type": "stream",
     "text": [
      " 70%|███████   | 701/1000 [08:40<03:43,  1.34it/s]"
     ]
    },
    {
     "name": "stdout",
     "output_type": "stream",
     "text": [
      "Epoch 18 - Batch 700/1000 - Loss -0.11209436506032944 - Angle 1.1082755327224731\n"
     ]
    },
    {
     "name": "stderr",
     "output_type": "stream",
     "text": [
      " 80%|████████  | 801/1000 [09:54<02:20,  1.41it/s]"
     ]
    },
    {
     "name": "stdout",
     "output_type": "stream",
     "text": [
      "Epoch 18 - Batch 800/1000 - Loss -0.0829152837395668 - Angle 1.2057946920394897\n"
     ]
    },
    {
     "name": "stderr",
     "output_type": "stream",
     "text": [
      " 90%|█████████ | 901/1000 [11:08<01:10,  1.40it/s]"
     ]
    },
    {
     "name": "stdout",
     "output_type": "stream",
     "text": [
      "Epoch 18 - Batch 900/1000 - Loss -0.16498367488384247 - Angle 1.0666923522949219\n"
     ]
    },
    {
     "name": "stderr",
     "output_type": "stream",
     "text": [
      "100%|██████████| 1000/1000 [12:22<00:00,  1.35it/s]\n",
      "  1%|          | 1/100 [00:00<01:14,  1.32it/s]"
     ]
    },
    {
     "name": "stdout",
     "output_type": "stream",
     "text": [
      "Epoch 18 - Batch 0/100 - Val loss -0.30985620617866516 - Val angle 0.9730696082115173\n"
     ]
    },
    {
     "name": "stderr",
     "output_type": "stream",
     "text": [
      "100%|██████████| 100/100 [01:09<00:00,  1.43it/s]\n"
     ]
    },
    {
     "name": "stdout",
     "output_type": "stream",
     "text": [
      "Epoch 018 - Loss -0.1595, Angle 1.0714624351263047 - Val_loss -0.1744, Val_angle 1.0737155055999756\n",
      "====== START EPOCH 19 ======\n",
      "Preparing batch 89 ...\n",
      "Loading meta ...\n",
      "Loading sensor ...\n",
      "Loading batch ...\n",
      "Complete.\n",
      "\n"
     ]
    },
    {
     "name": "stderr",
     "output_type": "stream",
     "text": [
      "  0%|          | 1/1000 [00:00<11:42,  1.42it/s]"
     ]
    },
    {
     "name": "stdout",
     "output_type": "stream",
     "text": [
      "Epoch 19 - Batch 0/1000 - Loss -0.12845133244991302 - Angle 1.1020042896270752\n"
     ]
    },
    {
     "name": "stderr",
     "output_type": "stream",
     "text": [
      " 10%|█         | 101/1000 [01:14<11:41,  1.28it/s]"
     ]
    },
    {
     "name": "stdout",
     "output_type": "stream",
     "text": [
      "Epoch 19 - Batch 100/1000 - Loss -0.1820887327194214 - Angle 1.0314918756484985\n"
     ]
    },
    {
     "name": "stderr",
     "output_type": "stream",
     "text": [
      " 20%|██        | 201/1000 [02:28<09:49,  1.36it/s]"
     ]
    },
    {
     "name": "stdout",
     "output_type": "stream",
     "text": [
      "Epoch 19 - Batch 200/1000 - Loss -0.12287308275699615 - Angle 1.1379914283752441\n"
     ]
    },
    {
     "name": "stderr",
     "output_type": "stream",
     "text": [
      " 30%|███       | 301/1000 [03:43<08:40,  1.34it/s]"
     ]
    },
    {
     "name": "stdout",
     "output_type": "stream",
     "text": [
      "Epoch 19 - Batch 300/1000 - Loss -0.20637457072734833 - Angle 1.1009454727172852\n"
     ]
    },
    {
     "name": "stderr",
     "output_type": "stream",
     "text": [
      " 40%|████      | 401/1000 [04:58<08:10,  1.22it/s]"
     ]
    },
    {
     "name": "stdout",
     "output_type": "stream",
     "text": [
      "Epoch 19 - Batch 400/1000 - Loss 0.0007287072949111462 - Angle 1.0990910530090332\n"
     ]
    },
    {
     "name": "stderr",
     "output_type": "stream",
     "text": [
      " 50%|█████     | 501/1000 [06:12<06:23,  1.30it/s]"
     ]
    },
    {
     "name": "stdout",
     "output_type": "stream",
     "text": [
      "Epoch 19 - Batch 500/1000 - Loss -0.06215452402830124 - Angle 1.1074237823486328\n"
     ]
    },
    {
     "name": "stderr",
     "output_type": "stream",
     "text": [
      " 60%|██████    | 601/1000 [07:26<04:46,  1.39it/s]"
     ]
    },
    {
     "name": "stdout",
     "output_type": "stream",
     "text": [
      "Epoch 19 - Batch 600/1000 - Loss 0.06007743999361992 - Angle 1.1293798685073853\n"
     ]
    },
    {
     "name": "stderr",
     "output_type": "stream",
     "text": [
      " 70%|███████   | 701/1000 [08:40<03:36,  1.38it/s]"
     ]
    },
    {
     "name": "stdout",
     "output_type": "stream",
     "text": [
      "Epoch 19 - Batch 700/1000 - Loss -0.30853214859962463 - Angle 1.0786104202270508\n"
     ]
    },
    {
     "name": "stderr",
     "output_type": "stream",
     "text": [
      " 80%|████████  | 801/1000 [09:55<02:25,  1.37it/s]"
     ]
    },
    {
     "name": "stdout",
     "output_type": "stream",
     "text": [
      "Epoch 19 - Batch 800/1000 - Loss -0.09624858945608139 - Angle 1.0815290212631226\n"
     ]
    },
    {
     "name": "stderr",
     "output_type": "stream",
     "text": [
      " 90%|█████████ | 901/1000 [11:10<01:11,  1.39it/s]"
     ]
    },
    {
     "name": "stdout",
     "output_type": "stream",
     "text": [
      "Epoch 19 - Batch 900/1000 - Loss -0.19700761139392853 - Angle 1.0501277446746826\n"
     ]
    },
    {
     "name": "stderr",
     "output_type": "stream",
     "text": [
      "100%|██████████| 1000/1000 [12:23<00:00,  1.35it/s]\n",
      "  1%|          | 1/100 [00:00<01:17,  1.28it/s]"
     ]
    },
    {
     "name": "stdout",
     "output_type": "stream",
     "text": [
      "Epoch 19 - Batch 0/100 - Val loss -0.32090771198272705 - Val angle 0.9705668687820435\n"
     ]
    },
    {
     "name": "stderr",
     "output_type": "stream",
     "text": [
      "100%|██████████| 100/100 [01:10<00:00,  1.41it/s]\n"
     ]
    },
    {
     "name": "stdout",
     "output_type": "stream",
     "text": [
      "Epoch 019 - Loss -0.1503, Angle 1.0743048849701882 - Val_loss -0.1726, Val_angle 1.0737899547815324\n",
      "====== START EPOCH 20 ======\n",
      "Preparing batch 90 ...\n",
      "Loading meta ...\n",
      "Loading sensor ...\n",
      "Loading batch ...\n",
      "Complete.\n",
      "\n"
     ]
    },
    {
     "name": "stderr",
     "output_type": "stream",
     "text": [
      "  0%|          | 1/1000 [00:00<12:01,  1.38it/s]"
     ]
    },
    {
     "name": "stdout",
     "output_type": "stream",
     "text": [
      "Epoch 20 - Batch 0/1000 - Loss -0.23492351174354553 - Angle 1.0649497509002686\n"
     ]
    },
    {
     "name": "stderr",
     "output_type": "stream",
     "text": [
      " 10%|█         | 101/1000 [01:14<10:49,  1.38it/s]"
     ]
    },
    {
     "name": "stdout",
     "output_type": "stream",
     "text": [
      "Epoch 20 - Batch 100/1000 - Loss -0.10068685561418533 - Angle 1.0604972839355469\n"
     ]
    },
    {
     "name": "stderr",
     "output_type": "stream",
     "text": [
      " 20%|██        | 201/1000 [02:29<10:44,  1.24it/s]"
     ]
    },
    {
     "name": "stdout",
     "output_type": "stream",
     "text": [
      "Epoch 20 - Batch 200/1000 - Loss -0.04402022436261177 - Angle 1.1285229921340942\n"
     ]
    },
    {
     "name": "stderr",
     "output_type": "stream",
     "text": [
      " 30%|███       | 301/1000 [03:44<08:50,  1.32it/s]"
     ]
    },
    {
     "name": "stdout",
     "output_type": "stream",
     "text": [
      "Epoch 20 - Batch 300/1000 - Loss -0.3671794831752777 - Angle 1.0287457704544067\n"
     ]
    },
    {
     "name": "stderr",
     "output_type": "stream",
     "text": [
      " 40%|████      | 401/1000 [04:58<07:35,  1.32it/s]"
     ]
    },
    {
     "name": "stdout",
     "output_type": "stream",
     "text": [
      "Epoch 20 - Batch 400/1000 - Loss -0.18122975528240204 - Angle 0.9917144179344177\n"
     ]
    },
    {
     "name": "stderr",
     "output_type": "stream",
     "text": [
      " 50%|█████     | 501/1000 [06:13<06:34,  1.27it/s]"
     ]
    },
    {
     "name": "stdout",
     "output_type": "stream",
     "text": [
      "Epoch 20 - Batch 500/1000 - Loss -0.2529878318309784 - Angle 1.163773536682129\n"
     ]
    },
    {
     "name": "stderr",
     "output_type": "stream",
     "text": [
      " 60%|██████    | 601/1000 [07:27<04:50,  1.37it/s]"
     ]
    },
    {
     "name": "stdout",
     "output_type": "stream",
     "text": [
      "Epoch 20 - Batch 600/1000 - Loss -0.28359851241111755 - Angle 1.049758791923523\n"
     ]
    },
    {
     "name": "stderr",
     "output_type": "stream",
     "text": [
      " 70%|███████   | 701/1000 [08:41<03:43,  1.34it/s]"
     ]
    },
    {
     "name": "stdout",
     "output_type": "stream",
     "text": [
      "Epoch 20 - Batch 700/1000 - Loss -0.20634590089321136 - Angle 1.0185837745666504\n"
     ]
    },
    {
     "name": "stderr",
     "output_type": "stream",
     "text": [
      " 80%|████████  | 801/1000 [09:55<02:26,  1.36it/s]"
     ]
    },
    {
     "name": "stdout",
     "output_type": "stream",
     "text": [
      "Epoch 20 - Batch 800/1000 - Loss -0.3410923182964325 - Angle 1.002160906791687\n"
     ]
    },
    {
     "name": "stderr",
     "output_type": "stream",
     "text": [
      " 90%|█████████ | 901/1000 [11:09<01:12,  1.37it/s]"
     ]
    },
    {
     "name": "stdout",
     "output_type": "stream",
     "text": [
      "Epoch 20 - Batch 900/1000 - Loss -0.2430923730134964 - Angle 1.07038152217865\n"
     ]
    },
    {
     "name": "stderr",
     "output_type": "stream",
     "text": [
      "100%|██████████| 1000/1000 [12:23<00:00,  1.35it/s]\n",
      "  1%|          | 1/100 [00:00<01:15,  1.31it/s]"
     ]
    },
    {
     "name": "stdout",
     "output_type": "stream",
     "text": [
      "Epoch 20 - Batch 0/100 - Val loss -0.31371596455574036 - Val angle 0.9695588946342468\n"
     ]
    },
    {
     "name": "stderr",
     "output_type": "stream",
     "text": [
      "100%|██████████| 100/100 [01:10<00:00,  1.43it/s]"
     ]
    },
    {
     "name": "stdout",
     "output_type": "stream",
     "text": [
      "Epoch 020 - Loss -0.1553, Angle 1.0743382862210273 - Val_loss -0.1742, Val_angle 1.0736225098371506\n"
     ]
    },
    {
     "name": "stderr",
     "output_type": "stream",
     "text": [
      "\n"
     ]
    }
   ],
   "source": [
    "# Training cell\n",
    "history = []\n",
    "\n",
    "for epoch in range(1, NUM_EPOCHS+1):\n",
    "    print(f'====== START EPOCH {epoch} ======')\n",
    "    \n",
    "    idx_batch = epoch + offset\n",
    "    \n",
    "    dataset_args = {\n",
    "        'idx_batch': idx_batch,\n",
    "        'path_batch': f'/kaggle/input/icecube-neutrinos-in-deep-ice/train/batch_{idx_batch}.parquet',\n",
    "        'path_meta': f'/kaggle/input/smallermeta/train_meta_{idx_batch}.parquet', \n",
    "        'path_sensor': '/kaggle/input/icecube-neutrinos-in-deep-ice/sensor_geometry.csv', \n",
    "        'target_mode': 'xyz', \n",
    "        'K': 8, \n",
    "        'features': ['x', 'y', 'z', 'time', 'charge'], \n",
    "        'threshold_events': 250\n",
    "    }\n",
    "    \n",
    "    train_dataset = MyOwnDataset(**dataset_args)\n",
    "    train_loader = DataLoader(train_dataset, batch_size=BATCH_SIZE, shuffle=True)\n",
    "    \n",
    "    train_loss, angle_error = run_one_epoch(model, train_loader, criterion, optimizer, device, epoch, train=True, verbose=VERBOSE)\n",
    "    val_loss, val_angle_error = run_one_epoch(model, val_loader, criterion, optimizer, device, epoch, train=False, verbose=VERBOSE)\n",
    "    \n",
    "    scheduler.step(val_loss)   \n",
    "    \n",
    "    # Save values for monitoring\n",
    "    history.append((train_loss, angle_error, val_loss, val_angle_error))\n",
    "    \n",
    "    # Save model checkpoint\n",
    "    torch.save(model.state_dict(), f'{SAVE_NAME}.pt')\n",
    "    \n",
    "    del train_dataset, train_loader\n",
    "    gc.collect()\n",
    "    \n",
    "    print(f'Epoch {epoch:03d} - Loss {train_loss:.4f}, Angle {angle_error} - Val_loss {val_loss:.4f}, Val_angle {val_angle_error}')"
   ]
  },
  {
   "cell_type": "code",
   "execution_count": 22,
   "id": "42726e60",
   "metadata": {
    "execution": {
     "iopub.execute_input": "2023-03-06T19:21:33.233387Z",
     "iopub.status.busy": "2023-03-06T19:21:33.232998Z",
     "iopub.status.idle": "2023-03-06T19:21:33.242889Z",
     "shell.execute_reply": "2023-03-06T19:21:33.242028Z"
    },
    "id": "e13358cf",
    "papermill": {
     "duration": 1.164545,
     "end_time": "2023-03-06T19:21:33.244960",
     "exception": false,
     "start_time": "2023-03-06T19:21:32.080415",
     "status": "completed"
    },
    "tags": []
   },
   "outputs": [],
   "source": [
    "history = np.array(history)\n",
    "history_df = pd.DataFrame(history, columns=['train_loss', 'train_angle_err', 'val_loss', 'val_angle_err'])\n",
    "history_df\n",
    "\n",
    "history_df.to_csv(f'{SAVE_NAME}.csv')"
   ]
  },
  {
   "cell_type": "code",
   "execution_count": 23,
   "id": "dca5d1f1",
   "metadata": {
    "execution": {
     "iopub.execute_input": "2023-03-06T19:21:35.802081Z",
     "iopub.status.busy": "2023-03-06T19:21:35.801368Z",
     "iopub.status.idle": "2023-03-06T19:21:36.221221Z",
     "shell.execute_reply": "2023-03-06T19:21:36.220264Z"
    },
    "id": "5d76d0f4",
    "outputId": "069522d2-3cd0-4858-c5bb-6b5bfb1438f7",
    "papermill": {
     "duration": 1.53684,
     "end_time": "2023-03-06T19:21:36.223388",
     "exception": false,
     "start_time": "2023-03-06T19:21:34.686548",
     "status": "completed"
    },
    "tags": []
   },
   "outputs": [
    {
     "data": {
      "image/png": "[encoded data removed]",
      "text/plain": [
       "<Figure size 720x360 with 2 Axes>"
      ]
     },
     "metadata": {
      "needs_background": "light"
     },
     "output_type": "display_data"
    }
   ],
   "source": [
    "plt.figure(figsize=(10, 5))\n",
    "plt.subplot(121)\n",
    "history_df.train_loss.plot()\n",
    "history_df.val_loss.plot()\n",
    "plt.title('Loss')\n",
    "plt.xlabel('Epoch')\n",
    "plt.legend()\n",
    "\n",
    "plt.subplot(122)\n",
    "history_df.train_angle_err.plot()\n",
    "history_df.val_angle_err.plot()\n",
    "plt.title('Mean angle error')\n",
    "plt.xlabel('Epoch')\n",
    "plt.legend()\n",
    "\n",
    "plt.savefig(f'{SAVE_NAME}.jpg')\n",
    "\n",
    "plt.show()"
   ]
  },
  {
   "cell_type": "code",
   "execution_count": null,
   "id": "0bf26f36",
   "metadata": {
    "id": "1eca482d",
    "papermill": {
     "duration": 1.111288,
     "end_time": "2023-03-06T19:21:38.554470",
     "exception": false,
     "start_time": "2023-03-06T19:21:37.443182",
     "status": "completed"
    },
    "tags": []
   },
   "outputs": [],
   "source": []
  }
 ],
 "metadata": {
  "kernelspec": {
   "display_name": "Python 3",
   "language": "python",
   "name": "python3"
  },
  "language_info": {
   "codemirror_mode": {
    "name": "ipython",
    "version": 3
   },
   "file_extension": ".py",
   "mimetype": "text/x-python",
   "name": "python",
   "nbconvert_exporter": "python",
   "pygments_lexer": "ipython3",
   "version": "3.7.12"
  },
  "papermill": {
   "default_parameters": {},
   "duration": 16608.085102,
   "end_time": "2023-03-06T19:21:41.612491",
   "environment_variables": {},
   "exception": null,
   "input_path": "__notebook__.ipynb",
   "output_path": "__notebook__.ipynb",
   "parameters": {},
   "start_time": "2023-03-06T14:44:53.527389",
   "version": "2.3.4"
  }
 },
 "nbformat": 4,
 "nbformat_minor": 5
}
